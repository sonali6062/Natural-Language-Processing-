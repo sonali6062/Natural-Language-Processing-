{
  "nbformat": 4,
  "nbformat_minor": 0,
  "metadata": {
    "colab": {
      "provenance": []
    },
    "kernelspec": {
      "name": "python3",
      "display_name": "Python 3"
    },
    "language_info": {
      "name": "python"
    }
  },
  "cells": [
    {
      "cell_type": "code",
      "execution_count": 1,
      "metadata": {
        "id": "meR5FlmRKdoO"
      },
      "outputs": [],
      "source": [
        "import re # Imports the regular expression module"
      ]
    },
    {
      "cell_type": "markdown",
      "source": [
        "#1.Removing the special characters"
      ],
      "metadata": {
        "id": "xpdGYnZEKo2y"
      }
    },
    {
      "cell_type": "code",
      "source": [
        "txt=\"Meet me at Cafe#9 @ 7:30pm!\"\n",
        "txt # Defines and displays the string to be analyzed"
      ],
      "metadata": {
        "colab": {
          "base_uri": "https://localhost:8080/",
          "height": 35
        },
        "id": "aEQJmnmMKoGF",
        "outputId": "580cc03c-2a5c-472e-e775-b1f105ad0b5c"
      },
      "execution_count": 2,
      "outputs": [
        {
          "output_type": "execute_result",
          "data": {
            "text/plain": [
              "'Meet me at Cafe#9 @ 7:30pm!'"
            ],
            "application/vnd.google.colaboratory.intrinsic+json": {
              "type": "string"
            }
          },
          "metadata": {},
          "execution_count": 2
        }
      ]
    },
    {
      "cell_type": "code",
      "source": [
        "re.findall('[#@:!]',txt) # Finds and lists all occurrences of '#', '@', ':', or '!' in the string"
      ],
      "metadata": {
        "colab": {
          "base_uri": "https://localhost:8080/"
        },
        "id": "qiXR8sQJLJ2S",
        "outputId": "22163272-aa1a-4ba2-98da-f2c73b70209b"
      },
      "execution_count": 3,
      "outputs": [
        {
          "output_type": "execute_result",
          "data": {
            "text/plain": [
              "['#', '@', ':', '!']"
            ]
          },
          "metadata": {},
          "execution_count": 3
        }
      ]
    },
    {
      "cell_type": "markdown",
      "source": [
        "#2.Exclusion(If we add ^ inside [ ] it would mean exclusion)"
      ],
      "metadata": {
        "id": "q4ii5uzgMO4T"
      }
    },
    {
      "cell_type": "code",
      "source": [
        "re.findall('[^#@:! ]',txt) # Finds and lists all characters NOT in the set '#', '@', ':', '!', or ' '"
      ],
      "metadata": {
        "colab": {
          "base_uri": "https://localhost:8080/"
        },
        "id": "DNvGwJqvLVYa",
        "outputId": "02c37930-8942-4def-d7b1-41d816878185"
      },
      "execution_count": 4,
      "outputs": [
        {
          "output_type": "execute_result",
          "data": {
            "text/plain": [
              "['M',\n",
              " 'e',\n",
              " 'e',\n",
              " 't',\n",
              " 'm',\n",
              " 'e',\n",
              " 'a',\n",
              " 't',\n",
              " 'C',\n",
              " 'a',\n",
              " 'f',\n",
              " 'e',\n",
              " '9',\n",
              " '7',\n",
              " '3',\n",
              " '0',\n",
              " 'p',\n",
              " 'm']"
            ]
          },
          "metadata": {},
          "execution_count": 4
        }
      ]
    },
    {
      "cell_type": "code",
      "source": [
        "''.join(re.findall('[^#@:!]',txt)) # Finds all characters NOT in the set '#', '@', ':', or '!' and joins them into a single string"
      ],
      "metadata": {
        "colab": {
          "base_uri": "https://localhost:8080/",
          "height": 35
        },
        "id": "qOtoOz8DLuVy",
        "outputId": "fdf2cdce-f06a-4219-bdcc-a41423c28627"
      },
      "execution_count": 5,
      "outputs": [
        {
          "output_type": "execute_result",
          "data": {
            "text/plain": [
              "'Meet me at Cafe9  730pm'"
            ],
            "application/vnd.google.colaboratory.intrinsic+json": {
              "type": "string"
            }
          },
          "metadata": {},
          "execution_count": 5
        }
      ]
    },
    {
      "cell_type": "code",
      "source": [
        "''.join(re.findall('[^#@:!7309]',txt))\n",
        "#it removes all the char starting with the symbols emntioned\n",
        "\n",
        "# Finds characters not in the specified set and joins them. The output is unexpected based on the comment."
      ],
      "metadata": {
        "colab": {
          "base_uri": "https://localhost:8080/",
          "height": 35
        },
        "id": "wlu6U5XGL9kA",
        "outputId": "a33480be-909f-4f21-fb63-84eaa0e27413"
      },
      "execution_count": 6,
      "outputs": [
        {
          "output_type": "execute_result",
          "data": {
            "text/plain": [
              "'Meet me at Cafe  pm'"
            ],
            "application/vnd.google.colaboratory.intrinsic+json": {
              "type": "string"
            }
          },
          "metadata": {},
          "execution_count": 6
        }
      ]
    },
    {
      "cell_type": "code",
      "source": [
        "txt=\"I'm 24 years old\"\n",
        "txt # Defines and displays a new string"
      ],
      "metadata": {
        "colab": {
          "base_uri": "https://localhost:8080/",
          "height": 35
        },
        "id": "08FVr5nOMFiV",
        "outputId": "3bacaa1a-63fe-41e1-ec51-73a85d34d0eb"
      },
      "execution_count": 7,
      "outputs": [
        {
          "output_type": "execute_result",
          "data": {
            "text/plain": [
              "\"I'm 24 years old\""
            ],
            "application/vnd.google.colaboratory.intrinsic+json": {
              "type": "string"
            }
          },
          "metadata": {},
          "execution_count": 7
        }
      ]
    },
    {
      "cell_type": "code",
      "source": [
        "''.join(re.findall('\\d\\d',txt)) # Finds sequences of two digits and joins them (result: '24')"
      ],
      "metadata": {
        "colab": {
          "base_uri": "https://localhost:8080/",
          "height": 125
        },
        "id": "KuZMHlQsMVo_",
        "outputId": "61ed8064-096b-477c-e885-6234e1672e11"
      },
      "execution_count": 8,
      "outputs": [
        {
          "output_type": "stream",
          "name": "stderr",
          "text": [
            "<>:1: SyntaxWarning: invalid escape sequence '\\d'\n",
            "<>:1: SyntaxWarning: invalid escape sequence '\\d'\n",
            "/tmp/ipython-input-2695105927.py:1: SyntaxWarning: invalid escape sequence '\\d'\n",
            "  ''.join(re.findall('\\d\\d',txt)) # Finds sequences of two digits and joins them (result: '24')\n"
          ]
        },
        {
          "output_type": "execute_result",
          "data": {
            "text/plain": [
              "'24'"
            ],
            "application/vnd.google.colaboratory.intrinsic+json": {
              "type": "string"
            }
          },
          "metadata": {},
          "execution_count": 8
        }
      ]
    },
    {
      "cell_type": "code",
      "source": [
        "''.join(re.findall('\\D',txt)) # Finds non-digit characters and joins them (result: \"I'm  years old\")"
      ],
      "metadata": {
        "colab": {
          "base_uri": "https://localhost:8080/",
          "height": 125
        },
        "id": "YC-EGfalMxi3",
        "outputId": "14944661-e145-4e5c-c18a-3e56191d745d"
      },
      "execution_count": 9,
      "outputs": [
        {
          "output_type": "stream",
          "name": "stderr",
          "text": [
            "<>:1: SyntaxWarning: invalid escape sequence '\\D'\n",
            "<>:1: SyntaxWarning: invalid escape sequence '\\D'\n",
            "/tmp/ipython-input-2810995377.py:1: SyntaxWarning: invalid escape sequence '\\D'\n",
            "  ''.join(re.findall('\\D',txt)) # Finds non-digit characters and joins them (result: \"I'm  years old\")\n"
          ]
        },
        {
          "output_type": "execute_result",
          "data": {
            "text/plain": [
              "\"I'm  years old\""
            ],
            "application/vnd.google.colaboratory.intrinsic+json": {
              "type": "string"
            }
          },
          "metadata": {},
          "execution_count": 9
        }
      ]
    },
    {
      "cell_type": "code",
      "source": [
        "txt='Eshant 50 Happy'\n",
        "txt # Defines and displays another new string"
      ],
      "metadata": {
        "colab": {
          "base_uri": "https://localhost:8080/",
          "height": 35
        },
        "id": "lklLxnffM2gT",
        "outputId": "c510357b-50c0-4956-fab2-b6b388b23c3c"
      },
      "execution_count": 10,
      "outputs": [
        {
          "output_type": "execute_result",
          "data": {
            "text/plain": [
              "'Eshant 50 Happy'"
            ],
            "application/vnd.google.colaboratory.intrinsic+json": {
              "type": "string"
            }
          },
          "metadata": {},
          "execution_count": 10
        }
      ]
    },
    {
      "cell_type": "markdown",
      "source": [
        "[^\\d] → matches one non-digit at a time → output = list of characters.\n",
        "\n",
        "[^\\d]+ → matches runs of non-digits grouped together → output = list of substrings."
      ],
      "metadata": {
        "id": "SZhmQSFKOn3W"
      }
    },
    {
      "cell_type": "code",
      "source": [
        "l=re.findall(r'[^\\d]',txt)\n",
        "l # Finds and lists individual non-digit characters"
      ],
      "metadata": {
        "colab": {
          "base_uri": "https://localhost:8080/"
        },
        "id": "ZEfFYFGuNu6J",
        "outputId": "13ab1dc4-e088-405d-8fbc-679779decf9e"
      },
      "execution_count": 11,
      "outputs": [
        {
          "output_type": "execute_result",
          "data": {
            "text/plain": [
              "['E', 's', 'h', 'a', 'n', 't', ' ', ' ', 'H', 'a', 'p', 'p', 'y']"
            ]
          },
          "metadata": {},
          "execution_count": 11
        }
      ]
    },
    {
      "cell_type": "code",
      "source": [
        "re.findall(r'[^\\d]+',txt) # Finds and lists sequences of one or more non-digit characters"
      ],
      "metadata": {
        "colab": {
          "base_uri": "https://localhost:8080/"
        },
        "id": "8KnJCvB5N6VE",
        "outputId": "a6c2d6ac-4185-48b3-ebfd-020382bf0fb0"
      },
      "execution_count": 12,
      "outputs": [
        {
          "output_type": "execute_result",
          "data": {
            "text/plain": [
              "['Eshant ', ' Happy']"
            ]
          },
          "metadata": {},
          "execution_count": 12
        }
      ]
    },
    {
      "cell_type": "code",
      "source": [
        "re.findall(r'[\\d]',txt) # Finds and lists individual digits"
      ],
      "metadata": {
        "colab": {
          "base_uri": "https://localhost:8080/"
        },
        "id": "N2NqLFsiOMFv",
        "outputId": "48f09d2b-de5b-4b19-e2ea-2f057bf4d28b"
      },
      "execution_count": 13,
      "outputs": [
        {
          "output_type": "execute_result",
          "data": {
            "text/plain": [
              "['5', '0']"
            ]
          },
          "metadata": {},
          "execution_count": 13
        }
      ]
    },
    {
      "cell_type": "code",
      "source": [
        "re.findall(r'[\\d]+',txt) # Finds and lists sequences of one or more digits"
      ],
      "metadata": {
        "colab": {
          "base_uri": "https://localhost:8080/"
        },
        "id": "LXc-M4WHPBDO",
        "outputId": "c156bec9-0d92-44c0-f04b-c7ef4d077711"
      },
      "execution_count": 14,
      "outputs": [
        {
          "output_type": "execute_result",
          "data": {
            "text/plain": [
              "['50']"
            ]
          },
          "metadata": {},
          "execution_count": 14
        }
      ]
    },
    {
      "cell_type": "markdown",
      "source": [
        "#3.Finding Patterns link Geeks-For-Geeks"
      ],
      "metadata": {
        "id": "eRKViJeZQbuD"
      }
    },
    {
      "cell_type": "code",
      "source": [
        "txt=\"Hello I am studing from Geeks-for-Geeks and it is amazing. Let's see how this works-out\"\n",
        "txt # Defines and displays the string for pattern matching"
      ],
      "metadata": {
        "colab": {
          "base_uri": "https://localhost:8080/",
          "height": 53
        },
        "id": "xzC5lsIjPDL_",
        "outputId": "1d2bedbd-58a7-4ee8-9921-3164804621a2"
      },
      "execution_count": 15,
      "outputs": [
        {
          "output_type": "execute_result",
          "data": {
            "text/plain": [
              "\"Hello I am studing from Geeks-for-Geeks and it is amazing. Let's see how this works-out\""
            ],
            "application/vnd.google.colaboratory.intrinsic+json": {
              "type": "string"
            }
          },
          "metadata": {},
          "execution_count": 15
        }
      ]
    },
    {
      "cell_type": "code",
      "source": [
        "a=re.findall(r'[\\w]+-[\\w]+-[\\w]',txt) # Finds patterns like \"word-word-character\"\n",
        "b=re.findall(r'[\\w]+-[\\w]+-[\\w]+',txt) # Finds patterns like \"word-word-word\"\n",
        "print(a) # Prints the result of the first pattern search\n",
        "print(b) # Prints the result of the second pattern search"
      ],
      "metadata": {
        "colab": {
          "base_uri": "https://localhost:8080/"
        },
        "id": "dPhagIHSQqdR",
        "outputId": "64eb99d7-1748-4888-9017-dcca5ba5ab19"
      },
      "execution_count": 16,
      "outputs": [
        {
          "output_type": "stream",
          "name": "stdout",
          "text": [
            "['Geeks-for-G']\n",
            "['Geeks-for-Geeks']\n"
          ]
        }
      ]
    },
    {
      "cell_type": "markdown",
      "source": [
        "#4.Phone number pattern matching"
      ],
      "metadata": {
        "id": "8c0hB4HQRKPN"
      }
    },
    {
      "cell_type": "code",
      "source": [
        "for no in [\"654-845-968\",'785-321-951',\"7458-951-753\"]:\n",
        "  print('-'*20)\n",
        "  print(re.findall('[\\d]+-[\\d]+-[\\d]',no)) # Finds patterns like \"digits-digits-digit\" in each phone number\n",
        "  print('-'*20)\n",
        "  print(re.findall('[\\d]+-[\\d]+-[\\d]+',no)) # Finds patterns like \"digits-digits-digits\" in each phone number"
      ],
      "metadata": {
        "colab": {
          "base_uri": "https://localhost:8080/"
        },
        "id": "l-W6sRFsQy92",
        "outputId": "a62bff8d-5eb4-49bb-d39e-c3e64e0206d2"
      },
      "execution_count": 17,
      "outputs": [
        {
          "output_type": "stream",
          "name": "stdout",
          "text": [
            "--------------------\n",
            "['654-845-9']\n",
            "--------------------\n",
            "['654-845-968']\n",
            "--------------------\n",
            "['785-321-9']\n",
            "--------------------\n",
            "['785-321-951']\n",
            "--------------------\n",
            "['7458-951-7']\n",
            "--------------------\n",
            "['7458-951-753']\n"
          ]
        },
        {
          "output_type": "stream",
          "name": "stderr",
          "text": [
            "<>:3: SyntaxWarning: invalid escape sequence '\\d'\n",
            "<>:5: SyntaxWarning: invalid escape sequence '\\d'\n",
            "<>:3: SyntaxWarning: invalid escape sequence '\\d'\n",
            "<>:5: SyntaxWarning: invalid escape sequence '\\d'\n",
            "/tmp/ipython-input-3302738117.py:3: SyntaxWarning: invalid escape sequence '\\d'\n",
            "  print(re.findall('[\\d]+-[\\d]+-[\\d]',no)) # Finds patterns like \"digits-digits-digit\" in each phone number\n",
            "/tmp/ipython-input-3302738117.py:5: SyntaxWarning: invalid escape sequence '\\d'\n",
            "  print(re.findall('[\\d]+-[\\d]+-[\\d]+',no)) # Finds patterns like \"digits-digits-digits\" in each phone number\n"
          ]
        }
      ]
    },
    {
      "cell_type": "code",
      "source": [
        "for no in [\"654-840-968\",'785-021-951',\"7458-051-753\"]:\n",
        "  print('-'*20)\n",
        "  found = re.findall(r'[\\d]+-[\\d]+-[\\d]',no) # Finds patterns like \"digits-digits-digit\"\n",
        "  if found:\n",
        "    print(''.join(found).replace('-','')) # If a pattern is found, joins the parts and removes hyphens\n",
        "  else:\n",
        "    print(\"Pattern not found\") # Prints \"Pattern not found\" if no pattern is matched"
      ],
      "metadata": {
        "colab": {
          "base_uri": "https://localhost:8080/"
        },
        "id": "e9dNFXBaRoGa",
        "outputId": "1665039f-209e-43a6-f3e0-93dccb1a2198"
      },
      "execution_count": 18,
      "outputs": [
        {
          "output_type": "stream",
          "name": "stdout",
          "text": [
            "--------------------\n",
            "6548409\n",
            "--------------------\n",
            "7850219\n",
            "--------------------\n",
            "74580517\n"
          ]
        }
      ]
    },
    {
      "cell_type": "code",
      "source": [
        "for no in [\"654-840-968\",'785-021-951',\"7458-051-753\"]:\n",
        "  print('-'*20)\n",
        "  print(str(re.findall('[\\d]+-[\\d]+-[\\d]' , no)[0]).replace('-','')) # Finds the pattern \"digits-digits-digit\", takes the first match, converts to string, and removes hyphens"
      ],
      "metadata": {
        "colab": {
          "base_uri": "https://localhost:8080/"
        },
        "id": "QhAWDQwwSDVE",
        "outputId": "acfdda7b-1ba7-462f-b624-d0f49d258dee"
      },
      "execution_count": 19,
      "outputs": [
        {
          "output_type": "stream",
          "name": "stdout",
          "text": [
            "--------------------\n",
            "6548409\n",
            "--------------------\n",
            "7850219\n",
            "--------------------\n",
            "74580517\n"
          ]
        },
        {
          "output_type": "stream",
          "name": "stderr",
          "text": [
            "<>:3: SyntaxWarning: invalid escape sequence '\\d'\n",
            "<>:3: SyntaxWarning: invalid escape sequence '\\d'\n",
            "/tmp/ipython-input-2447726879.py:3: SyntaxWarning: invalid escape sequence '\\d'\n",
            "  print(str(re.findall('[\\d]+-[\\d]+-[\\d]' , no)[0]).replace('-','')) # Finds the pattern \"digits-digits-digit\", takes the first match, converts to string, and removes hyphens\n"
          ]
        }
      ]
    },
    {
      "cell_type": "markdown",
      "metadata": {
        "id": "49521fba"
      },
      "source": [
        "# Project Summary\n",
        "\n",
        "This notebook demonstrates the use of Python's `re` module for working with regular expressions. We've covered several key concepts and techniques, including:\n",
        "\n",
        "- **Removing special characters:** Using character sets like `[^#@:! ]` to exclude unwanted characters from a string.\n",
        "- **Exclusion using `^`:** Understanding how the caret `^` within square brackets `[]` negates the character set, matching any character *not* in the set.\n",
        "- **Finding patterns:** Utilizing character classes like `\\d` (digits), `\\D` (non-digits), `\\w` (word characters), and quantifiers like `+` (one or more) to identify specific patterns in strings, such as phone numbers or hyphenated words.\n",
        "- **Applying patterns to data:** Iterating through a list of strings and applying regular expressions to extract or manipulate information based on defined patterns.\n",
        "\n",
        "This project provides a basic introduction to regular expressions in Python and their application in text processing tasks."
      ]
    }
  ]
}