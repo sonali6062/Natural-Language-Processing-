{
  "nbformat": 4,
  "nbformat_minor": 0,
  "metadata": {
    "colab": {
      "provenance": []
    },
    "kernelspec": {
      "name": "python3",
      "display_name": "Python 3"
    },
    "language_info": {
      "name": "python"
    }
  },
  "cells": [
    {
      "cell_type": "code",
      "execution_count": 1,
      "metadata": {
        "colab": {
          "base_uri": "https://localhost:8080/",
          "height": 105
        },
        "id": "DSqhoyDpTkxq",
        "outputId": "a76446dc-a970-4ce2-967d-218b7691665b"
      },
      "outputs": [
        {
          "output_type": "stream",
          "name": "stderr",
          "text": [
            "<>:3: SyntaxWarning: invalid escape sequence '\\w'\n",
            "<>:3: SyntaxWarning: invalid escape sequence '\\w'\n",
            "/tmp/ipython-input-4267379719.py:3: SyntaxWarning: invalid escape sequence '\\w'\n",
            "  pattern='[A-Za-z0-9]+@[\\w]+.[\\w]+'\n"
          ]
        },
        {
          "output_type": "execute_result",
          "data": {
            "text/plain": [
              "'sonalikumari6063@gmail.com'"
            ],
            "application/vnd.google.colaboratory.intrinsic+json": {
              "type": "string"
            }
          },
          "metadata": {},
          "execution_count": 1
        }
      ],
      "source": [
        "import re\n",
        "mail='sonalikumari6063@gmail.com'\n",
        "pattern='[A-Za-z0-9]+@[\\w]+.[\\w]+'\n",
        "mail\n"
      ]
    },
    {
      "cell_type": "code",
      "source": [
        "re.search(pattern,mail)"
      ],
      "metadata": {
        "colab": {
          "base_uri": "https://localhost:8080/"
        },
        "id": "llELYbV8Vug3",
        "outputId": "f45f3267-81a7-4bbd-98c3-9208d04c0db8"
      },
      "execution_count": 2,
      "outputs": [
        {
          "output_type": "execute_result",
          "data": {
            "text/plain": [
              "<re.Match object; span=(0, 26), match='sonalikumari6063@gmail.com'>"
            ]
          },
          "metadata": {},
          "execution_count": 2
        }
      ]
    },
    {
      "cell_type": "code",
      "source": [
        "re.search(pattern,mail).group()"
      ],
      "metadata": {
        "colab": {
          "base_uri": "https://localhost:8080/",
          "height": 35
        },
        "id": "1k459-D3nJNU",
        "outputId": "fe28ff45-94af-4df0-f119-430a6aa1ff9e"
      },
      "execution_count": 3,
      "outputs": [
        {
          "output_type": "execute_result",
          "data": {
            "text/plain": [
              "'sonalikumari6063@gmail.com'"
            ],
            "application/vnd.google.colaboratory.intrinsic+json": {
              "type": "string"
            }
          },
          "metadata": {},
          "execution_count": 3
        }
      ]
    },
    {
      "cell_type": "code",
      "source": [
        "mail1='sonalikumari6063gmail.com'\n",
        "mail1"
      ],
      "metadata": {
        "colab": {
          "base_uri": "https://localhost:8080/",
          "height": 35
        },
        "id": "SJqpRbt6V-L4",
        "outputId": "5b39a176-ee5f-439b-fa66-5002c8f8cfa3"
      },
      "execution_count": 4,
      "outputs": [
        {
          "output_type": "execute_result",
          "data": {
            "text/plain": [
              "'sonalikumari6063gmail.com'"
            ],
            "application/vnd.google.colaboratory.intrinsic+json": {
              "type": "string"
            }
          },
          "metadata": {},
          "execution_count": 4
        }
      ]
    },
    {
      "cell_type": "code",
      "source": [
        "re.search(pattern,mail1).group()\n",
        "#as @is not present i.e. not matching the pattern . That's why executing error"
      ],
      "metadata": {
        "colab": {
          "base_uri": "https://localhost:8080/",
          "height": 158
        },
        "id": "hWCqlywwm6lq",
        "outputId": "dc1c52d1-bbe6-4af7-83d3-e44eda2180c6"
      },
      "execution_count": 5,
      "outputs": [
        {
          "output_type": "error",
          "ename": "AttributeError",
          "evalue": "'NoneType' object has no attribute 'group'",
          "traceback": [
            "\u001b[0;31m---------------------------------------------------------------------------\u001b[0m",
            "\u001b[0;31mAttributeError\u001b[0m                            Traceback (most recent call last)",
            "\u001b[0;32m/tmp/ipython-input-1227020837.py\u001b[0m in \u001b[0;36m<cell line: 0>\u001b[0;34m()\u001b[0m\n\u001b[0;32m----> 1\u001b[0;31m \u001b[0mre\u001b[0m\u001b[0;34m.\u001b[0m\u001b[0msearch\u001b[0m\u001b[0;34m(\u001b[0m\u001b[0mpattern\u001b[0m\u001b[0;34m,\u001b[0m\u001b[0mmail1\u001b[0m\u001b[0;34m)\u001b[0m\u001b[0;34m.\u001b[0m\u001b[0mgroup\u001b[0m\u001b[0;34m(\u001b[0m\u001b[0;34m)\u001b[0m\u001b[0;34m\u001b[0m\u001b[0;34m\u001b[0m\u001b[0m\n\u001b[0m\u001b[1;32m      2\u001b[0m \u001b[0;31m#as @is not present i.e. not matching the pattern . That's why executing error\u001b[0m\u001b[0;34m\u001b[0m\u001b[0;34m\u001b[0m\u001b[0m\n",
            "\u001b[0;31mAttributeError\u001b[0m: 'NoneType' object has no attribute 'group'"
          ]
        }
      ]
    },
    {
      "cell_type": "markdown",
      "source": [
        "# Email ID with specific domain"
      ],
      "metadata": {
        "id": "ta3L--8enhyf"
      }
    },
    {
      "cell_type": "code",
      "source": [
        "mail1='sonalikumari6063@gmail.com'\n",
        "# Define a pattern to match email addresses with a specific domain (gmail.com)\n",
        "p='[A-Za-z0-9]+@(gmail).(com)$'\n",
        "# Search for the pattern in the 'mail' string (which is 'sonalikumari6063@gmail.org' from a previous cell)\n",
        "re.search(p,mail)"
      ],
      "metadata": {
        "colab": {
          "base_uri": "https://localhost:8080/"
        },
        "id": "GR-IM_PPm9AZ",
        "outputId": "5fefd089-60b8-4eae-8cf2-c204da727039"
      },
      "execution_count": 8,
      "outputs": [
        {
          "output_type": "execute_result",
          "data": {
            "text/plain": [
              "<re.Match object; span=(0, 26), match='sonalikumari6063@gmail.com'>"
            ]
          },
          "metadata": {},
          "execution_count": 8
        }
      ]
    },
    {
      "cell_type": "code",
      "source": [
        "# Search for the pattern 'p' (matching @gmail.com) in a string with a different domain (@yahoo.com)\n",
        "re.search(p,'sonalikumari6063@yahoo.com')\n",
        "# No output generated means not matching the pattern as it doesn't follow the specified domain in the pattern."
      ],
      "metadata": {
        "id": "CizwpsVloDZB"
      },
      "execution_count": 9,
      "outputs": []
    },
    {
      "cell_type": "markdown",
      "source": [
        "#Email ID with Multiple Selected domain"
      ],
      "metadata": {
        "id": "FFXMH227oYND"
      }
    },
    {
      "cell_type": "code",
      "source": [
        "# Set the email string to test\n",
        "mail='sonalikumari6063@gmail.org'\n",
        "# Define a pattern to match the username and the domain name up to the dot\n",
        "p='[A-Za-z0-9]+@[A-Za-z]'\n",
        "# Search for the pattern in the 'mail' string\n",
        "re.search(p,mail)"
      ],
      "metadata": {
        "colab": {
          "base_uri": "https://localhost:8080/"
        },
        "id": "bWmSIc66oOOD",
        "outputId": "d91c91e1-8287-432c-ef1b-d6390c24ee20"
      },
      "execution_count": 10,
      "outputs": [
        {
          "output_type": "execute_result",
          "data": {
            "text/plain": [
              "<re.Match object; span=(0, 18), match='sonalikumari6063@g'>"
            ]
          },
          "metadata": {},
          "execution_count": 10
        }
      ]
    },
    {
      "cell_type": "code",
      "source": [
        "# Define a pattern to match the username, domain name, and the dot\n",
        "p='[A-Za-z0-9]+@[A-Za-z]+.'\n",
        "# Search for the pattern in the 'mail' string\n",
        "re.search(p,mail)"
      ],
      "metadata": {
        "colab": {
          "base_uri": "https://localhost:8080/"
        },
        "id": "-fb5rUE_pGGH",
        "outputId": "b5aa645d-c8e6-4771-bbda-173f443cff7a"
      },
      "execution_count": 11,
      "outputs": [
        {
          "output_type": "execute_result",
          "data": {
            "text/plain": [
              "<re.Match object; span=(0, 23), match='sonalikumari6063@gmail.'>"
            ]
          },
          "metadata": {},
          "execution_count": 11
        }
      ]
    },
    {
      "cell_type": "code",
      "source": [
        "# Define a pattern to match email addresses with specific multiple domains (org, gov, com, in)\n",
        "p='[A-Za-z0-9]+@[A-Za-z]+.(org|gov|com|in)'\n",
        "# Search for the pattern in the 'mail' string\n",
        "re.search(p,mail)"
      ],
      "metadata": {
        "colab": {
          "base_uri": "https://localhost:8080/"
        },
        "id": "0T6BRvkmpb_H",
        "outputId": "7a0abf9a-b1c9-48da-c57d-0d1e3296d650"
      },
      "execution_count": 12,
      "outputs": [
        {
          "output_type": "execute_result",
          "data": {
            "text/plain": [
              "<re.Match object; span=(0, 26), match='sonalikumari6063@gmail.org'>"
            ]
          },
          "metadata": {},
          "execution_count": 12
        }
      ]
    },
    {
      "cell_type": "code",
      "source": [
        "# Define a pattern to match email addresses with a specific domain (in)\n",
        "p='[A-Za-z0-9]+@[A-Za-z]+.(in)'\n",
        "# Search for the pattern in the 'mail' string\n",
        "re.search(p,mail)\n",
        "# No output generated means not matching the pattern as the domain is not 'in'."
      ],
      "metadata": {
        "id": "kg537l8-phO5"
      },
      "execution_count": 13,
      "outputs": []
    },
    {
      "cell_type": "markdown",
      "metadata": {
        "id": "82ee8c0b"
      },
      "source": [
        "## Summary\n",
        "\n",
        "This notebook demonstrates the use of regular expressions in Python's `re` module for matching email address patterns.\n",
        "\n",
        "- We started with a basic pattern to validate the general structure of an email address (`[A-Za-z0-9]+@[\\w]+.[\\w]+`).\n",
        "- We explored how `re.search()` returns a match object if the pattern is found and `None` if it's not, leading to an `AttributeError` when trying to call `.group()` on `None`.\n",
        "- We then looked at patterns to match email addresses with a specific domain (`[A-Za-z0-9]+@(gmail).(com)$`).\n",
        "- Finally, we examined patterns to match email addresses with multiple selected domains (`[A-Za-z0-9]+@[A-Za-z]+.(org|gov|com|in)`).\n",
        "\n",
        "The key takeaway is that regular expressions provide a powerful and flexible way to define and find specific text patterns in strings."
      ]
    }
  ]
}