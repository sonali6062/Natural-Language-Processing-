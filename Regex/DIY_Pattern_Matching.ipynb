{
  "nbformat": 4,
  "nbformat_minor": 0,
  "metadata": {
    "colab": {
      "provenance": []
    },
    "kernelspec": {
      "name": "python3",
      "display_name": "Python 3"
    },
    "language_info": {
      "name": "python"
    }
  },
  "cells": [
    {
      "cell_type": "markdown",
      "source": [
        "#Extracting Information from Text"
      ],
      "metadata": {
        "id": "AjBQqOxSDvAL"
      }
    },
    {
      "cell_type": "markdown",
      "source": [
        "#1.Continuous Numbers"
      ],
      "metadata": {
        "id": "ddvTXhVFq55I"
      }
    },
    {
      "cell_type": "code",
      "execution_count": 1,
      "metadata": {
        "id": "uAEpvaN0q4mB",
        "colab": {
          "base_uri": "https://localhost:8080/"
        },
        "outputId": "ca870eed-d25e-4cf3-ad6e-b3921230be55"
      },
      "outputs": [
        {
          "output_type": "stream",
          "name": "stdout",
          "text": [
            "8 1 14\n",
            "3 2 15\n",
            "7 3 16\n",
            "2 4 17\n",
            "9 5 18\n",
            "3 6 19\n",
            "4 1 25\n",
            "2 2 26\n",
            "3 3 27\n",
            "4 4 28\n",
            "2 5 29\n",
            "3 6 30\n"
          ]
        }
      ],
      "source": [
        "txt='The number is 837293 not 423423.'\n",
        "c=0\n",
        "index=[]\n",
        "for i in range(len(txt)):\n",
        "\n",
        "  if(txt[i].isdigit()==True):\n",
        "    c+=1\n",
        "    print(txt[i],c,i)#printing index of numbers and this helps finding the range\n",
        "  else:\n",
        "    c=0"
      ]
    },
    {
      "cell_type": "markdown",
      "source": [],
      "metadata": {
        "id": "786AIg7N7wq1"
      }
    },
    {
      "cell_type": "code",
      "source": [
        "txt='The number is 837293 not 423423.'\n",
        "c=0\n",
        "index=[]\n",
        "pairs=[]\n",
        "for i in range(len(txt)):\n",
        "\n",
        "  if(txt[i].isdigit()==True):\n",
        "    if(c==0):\n",
        "        print('Start',i)\n",
        "    c+=1\n",
        "    # index.append(i)\n",
        "    # print(txt[i],c,i)#printing index of numbers and this helps finding the range\n",
        "  else:\n",
        "    if(c!=0):\n",
        "      print('End',i)\n",
        "    c=0"
      ],
      "metadata": {
        "id": "mcIpDcgb6DMR",
        "colab": {
          "base_uri": "https://localhost:8080/"
        },
        "outputId": "fc26a852-eb5c-4961-cb08-ea8863c81c9d"
      },
      "execution_count": 2,
      "outputs": [
        {
          "output_type": "stream",
          "name": "stdout",
          "text": [
            "Start 14\n",
            "End 20\n",
            "Start 25\n",
            "End 31\n"
          ]
        }
      ]
    },
    {
      "cell_type": "code",
      "source": [
        " txt='The number is 837293 not 423423.'\n",
        "c=0\n",
        "index=[]\n",
        "pairs=[]\n",
        "for i in range(len(txt)):\n",
        "\n",
        "  if(txt[i].isdigit()==True):\n",
        "    if(c==0):\n",
        "        print('Start',i)\n",
        "        st=i\n",
        "    c+=1\n",
        "    # index.append(i)\n",
        "    # print(txt[i],c,i)#printing index of numbers and this helps finding the range\n",
        "  else:\n",
        "    if(c!=0):\n",
        "      print('End',i)\n",
        "      end=i\n",
        "      print(st,end)\n",
        "\n",
        "    c=0"
      ],
      "metadata": {
        "colab": {
          "base_uri": "https://localhost:8080/"
        },
        "id": "XI1BzWCkqOsx",
        "outputId": "3d4c6cd4-0aa8-4640-f283-bc1652f5b4ab"
      },
      "execution_count": 3,
      "outputs": [
        {
          "output_type": "stream",
          "name": "stdout",
          "text": [
            "Start 14\n",
            "End 20\n",
            "14 20\n",
            "Start 25\n",
            "End 31\n",
            "25 31\n"
          ]
        }
      ]
    },
    {
      "cell_type": "code",
      "source": [
        "txt = 'The nu3mber is 8372493 not 423423.'\n",
        "c = 0\n",
        "\n",
        "for i in range(len(txt)):\n",
        "    if (txt[i].isdigit() == True):   # If Digit\n",
        "        if (c == 0):                 # Starting a new number\n",
        "            st = i\n",
        "        c += 1                       # Counting digits\n",
        "    else:                            # Not a digit\n",
        "        if (c != 0):                 # If we just finished a number\n",
        "            end = i\n",
        "            print(txt[st:end])       # Print the number\n",
        "        c = 0\n",
        "\n",
        "if (c != 0):                         # If number is at the end\n",
        "    print(txt[-c:])\n"
      ],
      "metadata": {
        "colab": {
          "base_uri": "https://localhost:8080/"
        },
        "id": "36ML-6Uautwh",
        "outputId": "b5b304ab-ac1e-4a99-8869-123559535c1a"
      },
      "execution_count": 4,
      "outputs": [
        {
          "output_type": "stream",
          "name": "stdout",
          "text": [
            "3\n",
            "8372493\n",
            "423423\n"
          ]
        }
      ]
    },
    {
      "cell_type": "code",
      "source": [
        "c"
      ],
      "metadata": {
        "colab": {
          "base_uri": "https://localhost:8080/"
        },
        "id": "b5BMYKoJu2lb",
        "outputId": "9d4b2762-9735-4de0-cc4d-591148f4034b"
      },
      "execution_count": 5,
      "outputs": [
        {
          "output_type": "execute_result",
          "data": {
            "text/plain": [
              "0"
            ]
          },
          "metadata": {},
          "execution_count": 5
        }
      ]
    },
    {
      "cell_type": "markdown",
      "source": [
        "#DIY Pattern Matching- Words Finding"
      ],
      "metadata": {
        "id": "s5M5c7PSvt8O"
      }
    },
    {
      "cell_type": "code",
      "source": [
        "txt=\"AI is having the capability to revolutionize all the industries. The Industry is ready for a big change\"\n",
        "word='having'"
      ],
      "metadata": {
        "id": "K7XSkhHqvdL1"
      },
      "execution_count": 6,
      "outputs": []
    },
    {
      "cell_type": "code",
      "source": [
        "word in txt"
      ],
      "metadata": {
        "colab": {
          "base_uri": "https://localhost:8080/"
        },
        "id": "mjyFrg3uwEI6",
        "outputId": "37c640a9-85f3-43dd-9397-6ba65bcab75d"
      },
      "execution_count": 7,
      "outputs": [
        {
          "output_type": "execute_result",
          "data": {
            "text/plain": [
              "True"
            ]
          },
          "metadata": {},
          "execution_count": 7
        }
      ]
    },
    {
      "cell_type": "code",
      "source": [
        "for i in range(len(txt)):\n",
        "  print(txt[i:i+6],i)\n",
        "\n",
        "#it will group continuous 6 strings"
      ],
      "metadata": {
        "colab": {
          "base_uri": "https://localhost:8080/"
        },
        "id": "mpNzl4xtwGFa",
        "outputId": "d68f9f24-7079-4fd5-c365-ea444c2aa574"
      },
      "execution_count": 8,
      "outputs": [
        {
          "output_type": "stream",
          "name": "stdout",
          "text": [
            "AI is  0\n",
            "I is h 1\n",
            " is ha 2\n",
            "is hav 3\n",
            "s havi 4\n",
            " havin 5\n",
            "having 6\n",
            "aving  7\n",
            "ving t 8\n",
            "ing th 9\n",
            "ng the 10\n",
            "g the  11\n",
            " the c 12\n",
            "the ca 13\n",
            "he cap 14\n",
            "e capa 15\n",
            " capab 16\n",
            "capabi 17\n",
            "apabil 18\n",
            "pabili 19\n",
            "abilit 20\n",
            "bility 21\n",
            "ility  22\n",
            "lity t 23\n",
            "ity to 24\n",
            "ty to  25\n",
            "y to r 26\n",
            " to re 27\n",
            "to rev 28\n",
            "o revo 29\n",
            " revol 30\n",
            "revolu 31\n",
            "evolut 32\n",
            "voluti 33\n",
            "olutio 34\n",
            "lution 35\n",
            "utioni 36\n",
            "tioniz 37\n",
            "ionize 38\n",
            "onize  39\n",
            "nize a 40\n",
            "ize al 41\n",
            "ze all 42\n",
            "e all  43\n",
            " all t 44\n",
            "all th 45\n",
            "ll the 46\n",
            "l the  47\n",
            " the i 48\n",
            "the in 49\n",
            "he ind 50\n",
            "e indu 51\n",
            " indus 52\n",
            "indust 53\n",
            "ndustr 54\n",
            "dustri 55\n",
            "ustrie 56\n",
            "stries 57\n",
            "tries. 58\n",
            "ries.  59\n",
            "ies. T 60\n",
            "es. Th 61\n",
            "s. The 62\n",
            ". The  63\n",
            " The I 64\n",
            "The In 65\n",
            "he Ind 66\n",
            "e Indu 67\n",
            " Indus 68\n",
            "Indust 69\n",
            "ndustr 70\n",
            "dustry 71\n",
            "ustry  72\n",
            "stry i 73\n",
            "try is 74\n",
            "ry is  75\n",
            "y is r 76\n",
            " is re 77\n",
            "is rea 78\n",
            "s read 79\n",
            " ready 80\n",
            "ready  81\n",
            "eady f 82\n",
            "ady fo 83\n",
            "dy for 84\n",
            "y for  85\n",
            " for a 86\n",
            "for a  87\n",
            "or a b 88\n",
            "r a bi 89\n",
            " a big 90\n",
            "a big  91\n",
            " big c 92\n",
            "big ch 93\n",
            "ig cha 94\n",
            "g chan 95\n",
            " chang 96\n",
            "change 97\n",
            "hange 98\n",
            "ange 99\n",
            "nge 100\n",
            "ge 101\n",
            "e 102\n"
          ]
        }
      ]
    },
    {
      "cell_type": "code",
      "source": [
        "for i in range(len(txt)):\n",
        "  print(txt[i:i+len(word)],i)"
      ],
      "metadata": {
        "colab": {
          "base_uri": "https://localhost:8080/"
        },
        "id": "IfwJafd9wZ_L",
        "outputId": "590d1c1b-b4f2-435e-89d5-a08407fc8cff"
      },
      "execution_count": 9,
      "outputs": [
        {
          "output_type": "stream",
          "name": "stdout",
          "text": [
            "AI is  0\n",
            "I is h 1\n",
            " is ha 2\n",
            "is hav 3\n",
            "s havi 4\n",
            " havin 5\n",
            "having 6\n",
            "aving  7\n",
            "ving t 8\n",
            "ing th 9\n",
            "ng the 10\n",
            "g the  11\n",
            " the c 12\n",
            "the ca 13\n",
            "he cap 14\n",
            "e capa 15\n",
            " capab 16\n",
            "capabi 17\n",
            "apabil 18\n",
            "pabili 19\n",
            "abilit 20\n",
            "bility 21\n",
            "ility  22\n",
            "lity t 23\n",
            "ity to 24\n",
            "ty to  25\n",
            "y to r 26\n",
            " to re 27\n",
            "to rev 28\n",
            "o revo 29\n",
            " revol 30\n",
            "revolu 31\n",
            "evolut 32\n",
            "voluti 33\n",
            "olutio 34\n",
            "lution 35\n",
            "utioni 36\n",
            "tioniz 37\n",
            "ionize 38\n",
            "onize  39\n",
            "nize a 40\n",
            "ize al 41\n",
            "ze all 42\n",
            "e all  43\n",
            " all t 44\n",
            "all th 45\n",
            "ll the 46\n",
            "l the  47\n",
            " the i 48\n",
            "the in 49\n",
            "he ind 50\n",
            "e indu 51\n",
            " indus 52\n",
            "indust 53\n",
            "ndustr 54\n",
            "dustri 55\n",
            "ustrie 56\n",
            "stries 57\n",
            "tries. 58\n",
            "ries.  59\n",
            "ies. T 60\n",
            "es. Th 61\n",
            "s. The 62\n",
            ". The  63\n",
            " The I 64\n",
            "The In 65\n",
            "he Ind 66\n",
            "e Indu 67\n",
            " Indus 68\n",
            "Indust 69\n",
            "ndustr 70\n",
            "dustry 71\n",
            "ustry  72\n",
            "stry i 73\n",
            "try is 74\n",
            "ry is  75\n",
            "y is r 76\n",
            " is re 77\n",
            "is rea 78\n",
            "s read 79\n",
            " ready 80\n",
            "ready  81\n",
            "eady f 82\n",
            "ady fo 83\n",
            "dy for 84\n",
            "y for  85\n",
            " for a 86\n",
            "for a  87\n",
            "or a b 88\n",
            "r a bi 89\n",
            " a big 90\n",
            "a big  91\n",
            " big c 92\n",
            "big ch 93\n",
            "ig cha 94\n",
            "g chan 95\n",
            " chang 96\n",
            "change 97\n",
            "hange 98\n",
            "ange 99\n",
            "nge 100\n",
            "ge 101\n",
            "e 102\n"
          ]
        }
      ]
    },
    {
      "cell_type": "code",
      "source": [
        "for i in range(len(txt)):\n",
        "  if(txt[i:i+len(word)]==word):\n",
        "    print(i,i+len(word))"
      ],
      "metadata": {
        "colab": {
          "base_uri": "https://localhost:8080/"
        },
        "id": "hhh4iwgoxBAW",
        "outputId": "f4f66d2c-be8c-428a-83c6-d88bae9f66fe"
      },
      "execution_count": 10,
      "outputs": [
        {
          "output_type": "stream",
          "name": "stdout",
          "text": [
            "6 12\n"
          ]
        }
      ]
    },
    {
      "cell_type": "code",
      "source": [
        "word='the'.lower()\n",
        "for i in range(len(txt)):\n",
        "\n",
        "    if(txt[i:i+len(word)] == word):\n",
        "\n",
        "        print(i,i+len(word))"
      ],
      "metadata": {
        "colab": {
          "base_uri": "https://localhost:8080/"
        },
        "id": "O6I6yPCGxoye",
        "outputId": "e161661a-91b6-4b8e-c285-2b4298956858"
      },
      "execution_count": 11,
      "outputs": [
        {
          "output_type": "stream",
          "name": "stdout",
          "text": [
            "13 16\n",
            "49 52\n"
          ]
        }
      ]
    },
    {
      "cell_type": "code",
      "source": [
        "txt=txt.lower()\n",
        "for i in range(len(txt)):\n",
        "\n",
        "    if(txt[i:i+len(word)] == word):\n",
        "\n",
        "        print(i,i+len(word))"
      ],
      "metadata": {
        "colab": {
          "base_uri": "https://localhost:8080/"
        },
        "id": "uuWB3RKa6a59",
        "outputId": "47cda95e-5ce2-47d5-b68c-8b056a54ff58"
      },
      "execution_count": 12,
      "outputs": [
        {
          "output_type": "stream",
          "name": "stdout",
          "text": [
            "13 16\n",
            "49 52\n",
            "65 68\n"
          ]
        }
      ]
    },
    {
      "cell_type": "markdown",
      "source": [
        "#DIY Pattern Matching-Word starting from a specific character."
      ],
      "metadata": {
        "id": "CTabmvo79kOb"
      }
    },
    {
      "cell_type": "code",
      "source": [
        "\n",
        "txt = 'AI is having the capability to revolutionize all the industries. The Industry is ready for a big change'\n",
        "\n",
        "word = 'in'\n",
        "for wrd in txt.split(' '):\n",
        "  if(wrd[:2].lower()==word.lower()):\n",
        "    print(wrd)"
      ],
      "metadata": {
        "id": "DdVwIUG39cVP",
        "colab": {
          "base_uri": "https://localhost:8080/"
        },
        "outputId": "0521a355-5f0d-4187-8dfe-9f356f565fe2"
      },
      "execution_count": 13,
      "outputs": [
        {
          "output_type": "stream",
          "name": "stdout",
          "text": [
            "industries.\n",
            "Industry\n"
          ]
        }
      ]
    },
    {
      "cell_type": "code",
      "source": [
        "txt = 'AI is having the capability to revolutionize all the industries. The Industry is ready for a big change'\n",
        "wrd = 'e'\n",
        "txt"
      ],
      "metadata": {
        "colab": {
          "base_uri": "https://localhost:8080/",
          "height": 53
        },
        "id": "-5qNbbB_-VCA",
        "outputId": "61076a7b-a048-489c-b4d3-0bee72e6aad7"
      },
      "execution_count": 14,
      "outputs": [
        {
          "output_type": "execute_result",
          "data": {
            "text/plain": [
              "'AI is having the capability to revolutionize all the industries. The Industry is ready for a big change'"
            ],
            "application/vnd.google.colaboratory.intrinsic+json": {
              "type": "string"
            }
          },
          "metadata": {},
          "execution_count": 14
        }
      ]
    },
    {
      "cell_type": "code",
      "source": [
        "for wrd in txt.split(' '):\n",
        "  if(wrd[:2].lower()==word.lower()):\n",
        "    print(wrd)\n"
      ],
      "metadata": {
        "id": "AYtx0noEBwBV",
        "colab": {
          "base_uri": "https://localhost:8080/"
        },
        "outputId": "9c7fb757-8d62-4cc6-9ece-1c6a711f8d1b"
      },
      "execution_count": 15,
      "outputs": [
        {
          "output_type": "stream",
          "name": "stdout",
          "text": [
            "industries.\n",
            "Industry\n"
          ]
        }
      ]
    },
    {
      "cell_type": "markdown",
      "source": [
        "#2.Word ending with specific character"
      ],
      "metadata": {
        "id": "N7FUfBt58zIb"
      }
    },
    {
      "cell_type": "code",
      "source": [
        "\n",
        "txt = 'AI is having the capability to revolutionize all the industries. The Industry is ready for a big change'\n",
        "\n",
        "word = 'ty'\n",
        "for wrd in txt.split(' '):\n",
        "  if(wrd[-2:].lower()==word.lower()):\n",
        "    print(wrd)"
      ],
      "metadata": {
        "colab": {
          "base_uri": "https://localhost:8080/"
        },
        "id": "0LUmvslZ9yez",
        "outputId": "b0635c46-f266-449b-933f-520d77c672e2"
      },
      "execution_count": 16,
      "outputs": [
        {
          "output_type": "stream",
          "name": "stdout",
          "text": [
            "capability\n"
          ]
        }
      ]
    },
    {
      "cell_type": "code",
      "source": [
        "txt = 'AI is having the capability to revolutionize all the industries. The Industry is ready for a big change'\n",
        "for i in range(len(txt.split(' ')) - 1):\n",
        "  print(txt.split(' ')[i],txt.split(' ')[i+1])\n",
        "\n",
        "#we can use to get the necessay information from large dataset.Suppose we want to extract important information and quesry for most repeating word after the. We can easily find these using these functions"
      ],
      "metadata": {
        "id": "aP_I2enrB6WU",
        "colab": {
          "base_uri": "https://localhost:8080/"
        },
        "outputId": "3b572da9-edb1-43f3-d92b-e2e151853b9e"
      },
      "execution_count": 17,
      "outputs": [
        {
          "output_type": "stream",
          "name": "stdout",
          "text": [
            "AI is\n",
            "is having\n",
            "having the\n",
            "the capability\n",
            "capability to\n",
            "to revolutionize\n",
            "revolutionize all\n",
            "all the\n",
            "the industries.\n",
            "industries. The\n",
            "The Industry\n",
            "Industry is\n",
            "is ready\n",
            "ready for\n",
            "for a\n",
            "a big\n",
            "big change\n"
          ]
        }
      ]
    },
    {
      "cell_type": "markdown",
      "source": [
        "#DIY Pattern Matching-Email Extraction"
      ],
      "metadata": {
        "id": "PUDJsDXW-hEj"
      }
    },
    {
      "cell_type": "code",
      "source": [
        "mails = [\n",
        "    \"arjun123@gmail.com\",\n",
        "    \"meera.k@outlook.com\",\n",
        "    \"rahul_raj@yahoo.com\",\n",
        "    \"priya2025@protonmail.com\",\n",
        "    \"ananya.singh@geeksforgeeks.org\",\n",
        "    \"vikram.patel@gov.in\",\n",
        "    \"neha@company.co.in\",\n",
        "    \"karthik.mehta@students.du.ac.in\",\n",
        "    \"isha.dev@github.io\",\n",
        "    \"rohan.kumari@rediffmail.com\"\n",
        "]\n"
      ],
      "metadata": {
        "id": "L2K8gLoh-ATP"
      },
      "execution_count": 18,
      "outputs": []
    },
    {
      "cell_type": "code",
      "source": [
        "for mail in mails:\n",
        "  print(mail)"
      ],
      "metadata": {
        "colab": {
          "base_uri": "https://localhost:8080/"
        },
        "id": "BVfxoQ3CBORc",
        "outputId": "55c45ed0-9ca1-4422-fdba-c90582976cba"
      },
      "execution_count": 19,
      "outputs": [
        {
          "output_type": "stream",
          "name": "stdout",
          "text": [
            "arjun123@gmail.com\n",
            "meera.k@outlook.com\n",
            "rahul_raj@yahoo.com\n",
            "priya2025@protonmail.com\n",
            "ananya.singh@geeksforgeeks.org\n",
            "vikram.patel@gov.in\n",
            "neha@company.co.in\n",
            "karthik.mehta@students.du.ac.in\n",
            "isha.dev@github.io\n",
            "rohan.kumari@rediffmail.com\n"
          ]
        }
      ]
    },
    {
      "cell_type": "code",
      "source": [
        "user_id=[] # Initialize an empty list to store user IDs\n",
        "for mail in mails: # Iterate through each email address in the 'mails' list\n",
        "  user_id.append(mail.split('@')[0]) # Split the email by '@' and append the first part (user ID) to the user_id list\n",
        "  print(mail.split('@')[1].split('.')) # Split the domain by '.' and print the resulting parts"
      ],
      "metadata": {
        "colab": {
          "base_uri": "https://localhost:8080/"
        },
        "id": "Zz4jOsPDBSoY",
        "outputId": "e1dc0ea7-91a6-43ee-887b-00f23b540683"
      },
      "execution_count": 20,
      "outputs": [
        {
          "output_type": "stream",
          "name": "stdout",
          "text": [
            "['gmail', 'com']\n",
            "['outlook', 'com']\n",
            "['yahoo', 'com']\n",
            "['protonmail', 'com']\n",
            "['geeksforgeeks', 'org']\n",
            "['gov', 'in']\n",
            "['company', 'co', 'in']\n",
            "['students', 'du', 'ac', 'in']\n",
            "['github', 'io']\n",
            "['rediffmail', 'com']\n"
          ]
        }
      ]
    },
    {
      "cell_type": "code",
      "source": [
        "user_id=[] # Initialize an empty list for user IDs\n",
        "host_name=[] # Initialize an empty list for host names\n",
        "domain_type=[] # Initialize an empty list for domain types (This variable is overwritten in each iteration)\n",
        "for mail in mails: # Iterate through each email\n",
        "  user_id.append(mail.split('@')[0]) # Extract and append the user ID\n",
        "  host_name.append(mail.split('@')[1].split('.')[0]) # Extract and append the host name\n",
        "  domain_type='.'.join(mail.split('@')[1].split('.')[1:]) # Extract and join the domain type parts (This will only store the domain type of the last email)"
      ],
      "metadata": {
        "id": "cyP1H9Q1BnY_"
      },
      "execution_count": 21,
      "outputs": []
    },
    {
      "cell_type": "code",
      "source": [
        "user_id # Display the list of extracted user IDs"
      ],
      "metadata": {
        "colab": {
          "base_uri": "https://localhost:8080/"
        },
        "id": "-QMRPKp7CSXq",
        "outputId": "bde24fd9-0d43-4934-db4a-d82372159f33"
      },
      "execution_count": 22,
      "outputs": [
        {
          "output_type": "execute_result",
          "data": {
            "text/plain": [
              "['arjun123',\n",
              " 'meera.k',\n",
              " 'rahul_raj',\n",
              " 'priya2025',\n",
              " 'ananya.singh',\n",
              " 'vikram.patel',\n",
              " 'neha',\n",
              " 'karthik.mehta',\n",
              " 'isha.dev',\n",
              " 'rohan.kumari']"
            ]
          },
          "metadata": {},
          "execution_count": 22
        }
      ]
    },
    {
      "cell_type": "code",
      "source": [
        "host_name # Display the list of extracted host names"
      ],
      "metadata": {
        "colab": {
          "base_uri": "https://localhost:8080/"
        },
        "id": "NXAqzp87C1YP",
        "outputId": "4824e638-e6ad-40a3-cbdd-46ffc45de93d"
      },
      "execution_count": 23,
      "outputs": [
        {
          "output_type": "execute_result",
          "data": {
            "text/plain": [
              "['gmail',\n",
              " 'outlook',\n",
              " 'yahoo',\n",
              " 'protonmail',\n",
              " 'geeksforgeeks',\n",
              " 'gov',\n",
              " 'company',\n",
              " 'students',\n",
              " 'github',\n",
              " 'rediffmail']"
            ]
          },
          "metadata": {},
          "execution_count": 23
        }
      ]
    },
    {
      "cell_type": "code",
      "source": [
        "domain_type"
      ],
      "metadata": {
        "colab": {
          "base_uri": "https://localhost:8080/",
          "height": 35
        },
        "id": "xgUB9C52C2_Y",
        "outputId": "a1b5578f-9ddc-4406-da05-e667cd53f049"
      },
      "execution_count": 24,
      "outputs": [
        {
          "output_type": "execute_result",
          "data": {
            "text/plain": [
              "'com'"
            ],
            "application/vnd.google.colaboratory.intrinsic+json": {
              "type": "string"
            }
          },
          "metadata": {},
          "execution_count": 24
        }
      ]
    },
    {
      "cell_type": "markdown",
      "source": [
        "This project explores different pattern matching techniques in Python. It starts with identifying continuous numbers in a string, then moves on to finding specific words and words starting or ending with particular characters. Finally, it demonstrates how to extract information like user IDs and hostnames from email addresses using string manipulation."
      ],
      "metadata": {
        "id": "ZoeqoZC4Ddv7"
      }
    }
  ]
}