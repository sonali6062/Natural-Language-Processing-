{
  "nbformat": 4,
  "nbformat_minor": 0,
  "metadata": {
    "colab": {
      "provenance": []
    },
    "kernelspec": {
      "name": "python3",
      "display_name": "Python 3"
    },
    "language_info": {
      "name": "python"
    }
  },
  "cells": [
    {
      "cell_type": "code",
      "execution_count": 1,
      "metadata": {
        "id": "sTb3vhCj6_da"
      },
      "outputs": [],
      "source": [
        "import re # Import the regular expression module"
      ]
    },
    {
      "cell_type": "markdown",
      "source": [
        "#1.Finding pattern with specific ending"
      ],
      "metadata": {
        "id": "g-yh5qUw7SrR"
      }
    },
    {
      "cell_type": "code",
      "source": [
        "# Finding the pattern 'at' in the given string\n",
        "re.findall('at','The rat sat on the mat and attacked a cat')"
      ],
      "metadata": {
        "colab": {
          "base_uri": "https://localhost:8080/"
        },
        "id": "o7iAZQNX7SDF",
        "outputId": "312d50ee-de58-4084-82a0-ef921f9cede2"
      },
      "execution_count": 2,
      "outputs": [
        {
          "output_type": "execute_result",
          "data": {
            "text/plain": [
              "['at', 'at', 'at', 'at', 'at']"
            ]
          },
          "metadata": {},
          "execution_count": 2
        }
      ]
    },
    {
      "cell_type": "code",
      "source": [
        "# finding all 3-letter words ending with 'at'\n",
        "re.findall('.at','The rat sat on the mat and attacked a cat')"
      ],
      "metadata": {
        "colab": {
          "base_uri": "https://localhost:8080/"
        },
        "id": "l78p1-SW7jJL",
        "outputId": "717f18af-c836-4436-a4bf-84222cf89122"
      },
      "execution_count": 3,
      "outputs": [
        {
          "output_type": "execute_result",
          "data": {
            "text/plain": [
              "['rat', 'sat', 'mat', ' at', 'cat']"
            ]
          },
          "metadata": {},
          "execution_count": 3
        }
      ]
    },
    {
      "cell_type": "markdown",
      "source": [
        "#2.Start and end pattern matching"
      ],
      "metadata": {
        "id": "DVtMnf1Z82cR"
      }
    },
    {
      "cell_type": "code",
      "source": [
        "# Finding all digits in the string\n",
        "re.findall('\\d','9 is divisible by 3 not 2')"
      ],
      "metadata": {
        "colab": {
          "base_uri": "https://localhost:8080/"
        },
        "id": "Bf9j714I7uI-",
        "outputId": "0eabb399-d8a2-46a8-d1a4-285f17ec978e"
      },
      "execution_count": 4,
      "outputs": [
        {
          "output_type": "stream",
          "name": "stderr",
          "text": [
            "<>:2: SyntaxWarning: invalid escape sequence '\\d'\n",
            "<>:2: SyntaxWarning: invalid escape sequence '\\d'\n",
            "/tmp/ipython-input-931921565.py:2: SyntaxWarning: invalid escape sequence '\\d'\n",
            "  re.findall('\\d','9 is divisible by 3 not 2')\n"
          ]
        },
        {
          "output_type": "execute_result",
          "data": {
            "text/plain": [
              "['9', '3', '2']"
            ]
          },
          "metadata": {},
          "execution_count": 4
        }
      ]
    },
    {
      "cell_type": "code",
      "source": [
        "# Finding all digits in the string\n",
        "re.findall('\\d','21 is divisible by 3 not 2')\n",
        "#as we have taken only one \\d tehn it will display only one digit at a time"
      ],
      "metadata": {
        "colab": {
          "base_uri": "https://localhost:8080/"
        },
        "id": "FEl4ilzB7-p8",
        "outputId": "04ef45ab-be4b-4eb6-e1cf-a38de560dfea"
      },
      "execution_count": 5,
      "outputs": [
        {
          "output_type": "stream",
          "name": "stderr",
          "text": [
            "<>:2: SyntaxWarning: invalid escape sequence '\\d'\n",
            "<>:2: SyntaxWarning: invalid escape sequence '\\d'\n",
            "/tmp/ipython-input-360089934.py:2: SyntaxWarning: invalid escape sequence '\\d'\n",
            "  re.findall('\\d','21 is divisible by 3 not 2')\n"
          ]
        },
        {
          "output_type": "execute_result",
          "data": {
            "text/plain": [
              "['2', '1', '3', '2']"
            ]
          },
          "metadata": {},
          "execution_count": 5
        }
      ]
    },
    {
      "cell_type": "code",
      "source": [
        "# Finding all two-digit numbers in the string\n",
        "re.findall('\\d\\d','21 is divisible by 3 not 2')"
      ],
      "metadata": {
        "colab": {
          "base_uri": "https://localhost:8080/"
        },
        "id": "AY5Cufdu8EZ6",
        "outputId": "e4f55e98-6bd4-484b-ffa1-33031da5573e"
      },
      "execution_count": 6,
      "outputs": [
        {
          "output_type": "stream",
          "name": "stderr",
          "text": [
            "<>:2: SyntaxWarning: invalid escape sequence '\\d'\n",
            "<>:2: SyntaxWarning: invalid escape sequence '\\d'\n",
            "/tmp/ipython-input-730048372.py:2: SyntaxWarning: invalid escape sequence '\\d'\n",
            "  re.findall('\\d\\d','21 is divisible by 3 not 2')\n"
          ]
        },
        {
          "output_type": "execute_result",
          "data": {
            "text/plain": [
              "['21']"
            ]
          },
          "metadata": {},
          "execution_count": 6
        }
      ]
    },
    {
      "cell_type": "code",
      "source": [
        "# Finding the last digit in the string\n",
        "re.findall('\\d$','9 is divisible by 3 not 2')\n",
        "# $ represent the last digit"
      ],
      "metadata": {
        "colab": {
          "base_uri": "https://localhost:8080/"
        },
        "id": "PrAiqWvE8PaW",
        "outputId": "7c81b115-0fd8-4bb3-b4bc-5ec22a75c288"
      },
      "execution_count": 7,
      "outputs": [
        {
          "output_type": "stream",
          "name": "stderr",
          "text": [
            "<>:2: SyntaxWarning: invalid escape sequence '\\d'\n",
            "<>:2: SyntaxWarning: invalid escape sequence '\\d'\n",
            "/tmp/ipython-input-1253988247.py:2: SyntaxWarning: invalid escape sequence '\\d'\n",
            "  re.findall('\\d$','9 is divisible by 3 not 2')\n"
          ]
        },
        {
          "output_type": "execute_result",
          "data": {
            "text/plain": [
              "['2']"
            ]
          },
          "metadata": {},
          "execution_count": 7
        }
      ]
    },
    {
      "cell_type": "code",
      "source": [
        "# Finding the last digit in the string\n",
        "re.findall('\\d$','9 is divisible by 3.')\n",
        "# $ represent the last digit ans as '.' is not digit so it's returning empty string"
      ],
      "metadata": {
        "colab": {
          "base_uri": "https://localhost:8080/"
        },
        "id": "pXCdu2lE8d6T",
        "outputId": "326a2f3e-1480-4c31-9512-764a301fffc3"
      },
      "execution_count": 8,
      "outputs": [
        {
          "output_type": "stream",
          "name": "stderr",
          "text": [
            "<>:2: SyntaxWarning: invalid escape sequence '\\d'\n",
            "<>:2: SyntaxWarning: invalid escape sequence '\\d'\n",
            "/tmp/ipython-input-2503906381.py:2: SyntaxWarning: invalid escape sequence '\\d'\n",
            "  re.findall('\\d$','9 is divisible by 3.')\n"
          ]
        },
        {
          "output_type": "execute_result",
          "data": {
            "text/plain": [
              "[]"
            ]
          },
          "metadata": {},
          "execution_count": 8
        }
      ]
    },
    {
      "cell_type": "code",
      "source": [
        "# Finding the first digit in the string\n",
        "re.findall('^\\d','9 is divisible by 3.')\n",
        "# ^ represent the first digit"
      ],
      "metadata": {
        "colab": {
          "base_uri": "https://localhost:8080/"
        },
        "id": "GwO39iSy8ruf",
        "outputId": "9cfd9ebf-6b32-45ff-bef6-16de0a403dc8"
      },
      "execution_count": 9,
      "outputs": [
        {
          "output_type": "stream",
          "name": "stderr",
          "text": [
            "<>:2: SyntaxWarning: invalid escape sequence '\\d'\n",
            "<>:2: SyntaxWarning: invalid escape sequence '\\d'\n",
            "/tmp/ipython-input-1809795821.py:2: SyntaxWarning: invalid escape sequence '\\d'\n",
            "  re.findall('^\\d','9 is divisible by 3.')\n"
          ]
        },
        {
          "output_type": "execute_result",
          "data": {
            "text/plain": [
              "['9']"
            ]
          },
          "metadata": {},
          "execution_count": 9
        }
      ]
    },
    {
      "cell_type": "markdown",
      "source": [
        "#3.Finding Small Letters"
      ],
      "metadata": {
        "id": "HvTH_QTK-Dtw"
      }
    },
    {
      "cell_type": "code",
      "source": [
        "# Finding all lowercase letters in the string\n",
        "re.findall('[a-z]','Welcome to ITALY')"
      ],
      "metadata": {
        "colab": {
          "base_uri": "https://localhost:8080/"
        },
        "id": "5xrefE1X9Dd-",
        "outputId": "90a0d9ee-a40a-4cd1-8a5c-30b1eb9ad2cf"
      },
      "execution_count": 10,
      "outputs": [
        {
          "output_type": "execute_result",
          "data": {
            "text/plain": [
              "['e', 'l', 'c', 'o', 'm', 'e', 't', 'o']"
            ]
          },
          "metadata": {},
          "execution_count": 10
        }
      ]
    },
    {
      "cell_type": "markdown",
      "source": [
        "#4.Finding Capital Letters"
      ],
      "metadata": {
        "id": "yOYSVMTz-Z1x"
      }
    },
    {
      "cell_type": "code",
      "source": [
        "# Finding all uppercase letters in the string\n",
        "re.findall('[A-Z]','Welcome to ITALY')"
      ],
      "metadata": {
        "colab": {
          "base_uri": "https://localhost:8080/"
        },
        "id": "VRAEa8cX-NAE",
        "outputId": "e4b90f91-8a9a-4169-c167-13d928a22b28"
      },
      "execution_count": 11,
      "outputs": [
        {
          "output_type": "execute_result",
          "data": {
            "text/plain": [
              "['W', 'I', 'T', 'A', 'L', 'Y']"
            ]
          },
          "metadata": {},
          "execution_count": 11
        }
      ]
    },
    {
      "cell_type": "markdown",
      "source": [
        "#5.Finding uppercase and lowercase Letters"
      ],
      "metadata": {
        "id": "5Qe0Yvm8-dIb"
      }
    },
    {
      "cell_type": "code",
      "source": [
        "# Finding all uppercase and lowercase letters in the string\n",
        "re.findall('[A-Za-z]','Welcome to ITALY')"
      ],
      "metadata": {
        "colab": {
          "base_uri": "https://localhost:8080/"
        },
        "id": "dH5P6Hlv-Qgg",
        "outputId": "668c7b1a-a383-4481-aeec-8469e0336d1c"
      },
      "execution_count": 12,
      "outputs": [
        {
          "output_type": "execute_result",
          "data": {
            "text/plain": [
              "['W', 'e', 'l', 'c', 'o', 'm', 'e', 't', 'o', 'I', 'T', 'A', 'L', 'Y']"
            ]
          },
          "metadata": {},
          "execution_count": 12
        }
      ]
    },
    {
      "cell_type": "markdown",
      "source": [
        "#6.Finding uppercase,lowercase Letters and Numbers"
      ],
      "metadata": {
        "id": "hzdfR9fw-m29"
      }
    },
    {
      "cell_type": "code",
      "source": [
        "# Finding all uppercase, lowercase letters and numbers in the string\n",
        "re.findall('[A-Za-z0-9]','Welcome to ITALY 34859')"
      ],
      "metadata": {
        "colab": {
          "base_uri": "https://localhost:8080/"
        },
        "id": "lvKYoZk3-l2S",
        "outputId": "6bd38903-d5b2-4af0-c77f-b6fdb5cd74dd"
      },
      "execution_count": 13,
      "outputs": [
        {
          "output_type": "execute_result",
          "data": {
            "text/plain": [
              "['W',\n",
              " 'e',\n",
              " 'l',\n",
              " 'c',\n",
              " 'o',\n",
              " 'm',\n",
              " 'e',\n",
              " 't',\n",
              " 'o',\n",
              " 'I',\n",
              " 'T',\n",
              " 'A',\n",
              " 'L',\n",
              " 'Y',\n",
              " '3',\n",
              " '4',\n",
              " '8',\n",
              " '5',\n",
              " '9']"
            ]
          },
          "metadata": {},
          "execution_count": 13
        }
      ]
    },
    {
      "cell_type": "markdown",
      "source": [
        "#7. Finding numeric values"
      ],
      "metadata": {
        "id": "0_le7o_5-zkD"
      }
    },
    {
      "cell_type": "code",
      "source": [
        "# Finding all numeric values in the string\n",
        "re.findall('[0-9]','Welcome to ITALY 34859')"
      ],
      "metadata": {
        "colab": {
          "base_uri": "https://localhost:8080/"
        },
        "id": "bolANSjp-v1Z",
        "outputId": "f124b6f4-5aed-4bda-e420-5bc357415265"
      },
      "execution_count": 14,
      "outputs": [
        {
          "output_type": "execute_result",
          "data": {
            "text/plain": [
              "['3', '4', '8', '5', '9']"
            ]
          },
          "metadata": {},
          "execution_count": 14
        }
      ]
    },
    {
      "cell_type": "markdown",
      "metadata": {
        "id": "3a3ede70"
      },
      "source": [
        "This notebook demonstrates various ways to use the `re` module in Python for regular expression operations.\n",
        "\n",
        "Here's a summary of the examples covered:\n",
        "\n",
        "*   **Finding patterns with specific endings**: Examples show how to find a specific pattern ('at') and a pattern ending with 'at' using the `.` wildcard.\n",
        "*   **Start and end pattern matching**: Examples illustrate how to find digits (`\\d`), two-digit numbers (`\\d\\d`), and use anchors (`^` for the start and `$` for the end of the string) to find digits at the beginning and end of a string.\n",
        "*   **Finding specific character types**: Examples demonstrate how to find lowercase letters (`[a-z]`), uppercase letters (`[A-Z]`), both uppercase and lowercase letters (`[A-Za-z]`), alphanumeric characters (`[A-Za-z0-9]`), and numeric values (`[0-9]`)."
      ]
    }
  ]
}