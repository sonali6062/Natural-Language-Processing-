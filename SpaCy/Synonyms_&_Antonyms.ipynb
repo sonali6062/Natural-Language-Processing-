{
  "nbformat": 4,
  "nbformat_minor": 0,
  "metadata": {
    "colab": {
      "provenance": []
    },
    "kernelspec": {
      "name": "python3",
      "display_name": "Python 3"
    },
    "language_info": {
      "name": "python"
    }
  },
  "cells": [
    {
      "cell_type": "code",
      "metadata": {
        "colab": {
          "base_uri": "https://localhost:8080/"
        },
        "id": "dc640ec2",
        "outputId": "90f13852-d712-42b1-c60d-4e4e431b6103"
      },
      "source": [
        "import nltk\n",
        "nltk.download('wordnet')"
      ],
      "execution_count": 1,
      "outputs": [
        {
          "output_type": "stream",
          "name": "stderr",
          "text": [
            "[nltk_data] Downloading package wordnet to /root/nltk_data...\n",
            "[nltk_data]   Package wordnet is already up-to-date!\n"
          ]
        },
        {
          "output_type": "execute_result",
          "data": {
            "text/plain": [
              "True"
            ]
          },
          "metadata": {},
          "execution_count": 1
        }
      ]
    },
    {
      "cell_type": "code",
      "execution_count": 2,
      "metadata": {
        "id": "-GIZG0P1H_Cj"
      },
      "outputs": [],
      "source": [
        "from nltk.corpus import wordnet#whole dictionary of english words"
      ]
    },
    {
      "cell_type": "code",
      "source": [
        "syn=wordnet.synsets('Book')#gives synonyms for the word 'Book'"
      ],
      "metadata": {
        "id": "GRBINERZIMR0"
      },
      "execution_count": 3,
      "outputs": []
    },
    {
      "cell_type": "code",
      "source": [
        "syn[0].definition()#definition present in dictionary"
      ],
      "metadata": {
        "colab": {
          "base_uri": "https://localhost:8080/",
          "height": 35
        },
        "id": "lxK9wwKCIR8i",
        "outputId": "d5bfc3fa-bfe0-46b4-b8d3-032321cfb49c"
      },
      "execution_count": 4,
      "outputs": [
        {
          "output_type": "execute_result",
          "data": {
            "text/plain": [
              "'a written work or composition that has been published (printed on pages bound together)'"
            ],
            "application/vnd.google.colaboratory.intrinsic+json": {
              "type": "string"
            }
          },
          "metadata": {},
          "execution_count": 4
        }
      ]
    },
    {
      "cell_type": "markdown",
      "source": [
        "#1.Printing the Synonyms"
      ],
      "metadata": {
        "id": "WfyPDqFeJadL"
      }
    },
    {
      "cell_type": "code",
      "source": [
        "synonyms=[] # Initialize an empty list to store synonyms\n",
        "for syn in wordnet.synsets('Car'): # Iterate through each synset (set of synonyms) for the word 'Car'\n",
        "  for lemma in syn.lemmas(): # Iterate through each lemma (individual word) within the current synset\n",
        "    synonyms.append(lemma.name()) # Append the name of the current lemma to the synonyms list\n",
        "\n",
        "print(synonyms) # Print the list of synonyms"
      ],
      "metadata": {
        "colab": {
          "base_uri": "https://localhost:8080/"
        },
        "id": "iiPyd0S8Itin",
        "outputId": "ba51872d-f808-4aba-87ed-4f383818ae28"
      },
      "execution_count": 5,
      "outputs": [
        {
          "output_type": "stream",
          "name": "stdout",
          "text": [
            "['car', 'auto', 'automobile', 'machine', 'motorcar', 'car', 'railcar', 'railway_car', 'railroad_car', 'car', 'gondola', 'car', 'elevator_car', 'cable_car', 'car']\n"
          ]
        }
      ]
    },
    {
      "cell_type": "markdown",
      "source": [
        "#2.Printing the Antonyms"
      ],
      "metadata": {
        "id": "gjK-XEkxKVz6"
      }
    },
    {
      "cell_type": "code",
      "source": [
        "antonyms=[] # Initialize an empty list to store antonyms\n",
        "for ant in wordnet.synsets('Good'): # Iterate through each synset for the word 'Good'\n",
        "  for lemma in ant.lemmas(): # Iterate through each lemma within the current synset\n",
        "    if(lemma.antonyms()): # Check if the current lemma has any antonyms\n",
        "      antonyms.append(lemma.antonyms()[0].name()) # If antonyms exist, append the name of the first antonym to the antonyms list\n",
        "\n",
        "print(antonyms) # Print the list of antonyms"
      ],
      "metadata": {
        "colab": {
          "base_uri": "https://localhost:8080/"
        },
        "id": "l_mtBiPVJ4mM",
        "outputId": "e7a266fe-2140-4b35-899f-956e752a9f75"
      },
      "execution_count": 6,
      "outputs": [
        {
          "output_type": "stream",
          "name": "stdout",
          "text": [
            "['evil', 'evilness', 'bad', 'badness', 'bad', 'evil', 'ill']\n"
          ]
        }
      ]
    }
  ]
}