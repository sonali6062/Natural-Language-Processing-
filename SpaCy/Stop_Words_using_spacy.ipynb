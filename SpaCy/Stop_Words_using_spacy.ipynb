{
  "nbformat": 4,
  "nbformat_minor": 0,
  "metadata": {
    "colab": {
      "provenance": []
    },
    "kernelspec": {
      "name": "python3",
      "display_name": "Python 3"
    },
    "language_info": {
      "name": "python"
    }
  },
  "cells": [
    {
      "cell_type": "code",
      "execution_count": 1,
      "metadata": {
        "id": "o5IqAl079LCi"
      },
      "outputs": [],
      "source": [
        "import spacy\n",
        "# It works with a lot of languages. One can either go for efficiency or accuracy (bigger models)"
      ]
    },
    {
      "cell_type": "code",
      "source": [
        "nlp=spacy.load('en_core_web_sm')# Load the English language model for spacy"
      ],
      "metadata": {
        "id": "XnHe_wpM9Muh"
      },
      "execution_count": 2,
      "outputs": []
    },
    {
      "cell_type": "code",
      "source": [
        "# Define a sample text (corpus) to work with\n",
        "s='''\n",
        "Data science is the study of data. Like biological sciences is a study of biology, physical sciences, it’s the study of physical reactions. Data is real, data has real properties, and we need to study them if we’re going to work on them. Data Science involves data and some signs.\n",
        "\n",
        "It is a process, not an event. It is the process of using data to understand too many different things, to understand the world. Let Suppose when you have a model or proposed explanation of a problem, and you try to validate that proposed explanation or model with your data.\n",
        "\n",
        "It is the skill of unfolding the insights and trends that are hiding (or abstract) behind data. It’s when you translate data into a story. So use storytelling to generate insight. And with these insights, you can make strategic choices for a company or an institution.\n",
        "\n",
        "We can also define data science as a field that is about processes and systems to extract data of various forms and from various resources whether the data is unstructured or structured.\n",
        "The definition and the name came up in the 1980s and 1990s when some professors, IT Professionals, scientists were looking into the statistics curriculum, and they thought it would be better to call it data science and then later on data analytics derived.\n",
        "'''"
      ],
      "metadata": {
        "id": "sD2z6VaW9t6O"
      },
      "execution_count": 3,
      "outputs": []
    },
    {
      "cell_type": "markdown",
      "source": [
        "#1.Printing all stop words"
      ],
      "metadata": {
        "id": "387D0hJN-mf1"
      }
    },
    {
      "cell_type": "code",
      "source": [
        "# Print the default set of stop words in the loaded spacy model\n",
        "nlp.Defaults.stop_words\n",
        "# Even if we remove stop words still the sentence will make sense"
      ],
      "metadata": {
        "colab": {
          "base_uri": "https://localhost:8080/"
        },
        "id": "TXrsgK-I91Mh",
        "outputId": "86293e3c-ba0d-415f-91bb-a37bca8af6ec"
      },
      "execution_count": 4,
      "outputs": [
        {
          "output_type": "execute_result",
          "data": {
            "text/plain": [
              "{\"'d\",\n",
              " \"'ll\",\n",
              " \"'m\",\n",
              " \"'re\",\n",
              " \"'s\",\n",
              " \"'ve\",\n",
              " 'a',\n",
              " 'about',\n",
              " 'above',\n",
              " 'across',\n",
              " 'after',\n",
              " 'afterwards',\n",
              " 'again',\n",
              " 'against',\n",
              " 'all',\n",
              " 'almost',\n",
              " 'alone',\n",
              " 'along',\n",
              " 'already',\n",
              " 'also',\n",
              " 'although',\n",
              " 'always',\n",
              " 'am',\n",
              " 'among',\n",
              " 'amongst',\n",
              " 'amount',\n",
              " 'an',\n",
              " 'and',\n",
              " 'another',\n",
              " 'any',\n",
              " 'anyhow',\n",
              " 'anyone',\n",
              " 'anything',\n",
              " 'anyway',\n",
              " 'anywhere',\n",
              " 'are',\n",
              " 'around',\n",
              " 'as',\n",
              " 'at',\n",
              " 'back',\n",
              " 'be',\n",
              " 'became',\n",
              " 'because',\n",
              " 'become',\n",
              " 'becomes',\n",
              " 'becoming',\n",
              " 'been',\n",
              " 'before',\n",
              " 'beforehand',\n",
              " 'behind',\n",
              " 'being',\n",
              " 'below',\n",
              " 'beside',\n",
              " 'besides',\n",
              " 'between',\n",
              " 'beyond',\n",
              " 'both',\n",
              " 'bottom',\n",
              " 'but',\n",
              " 'by',\n",
              " 'ca',\n",
              " 'call',\n",
              " 'can',\n",
              " 'cannot',\n",
              " 'could',\n",
              " 'did',\n",
              " 'do',\n",
              " 'does',\n",
              " 'doing',\n",
              " 'done',\n",
              " 'down',\n",
              " 'due',\n",
              " 'during',\n",
              " 'each',\n",
              " 'eight',\n",
              " 'either',\n",
              " 'eleven',\n",
              " 'else',\n",
              " 'elsewhere',\n",
              " 'empty',\n",
              " 'enough',\n",
              " 'even',\n",
              " 'ever',\n",
              " 'every',\n",
              " 'everyone',\n",
              " 'everything',\n",
              " 'everywhere',\n",
              " 'except',\n",
              " 'few',\n",
              " 'fifteen',\n",
              " 'fifty',\n",
              " 'first',\n",
              " 'five',\n",
              " 'for',\n",
              " 'former',\n",
              " 'formerly',\n",
              " 'forty',\n",
              " 'four',\n",
              " 'from',\n",
              " 'front',\n",
              " 'full',\n",
              " 'further',\n",
              " 'get',\n",
              " 'give',\n",
              " 'go',\n",
              " 'had',\n",
              " 'has',\n",
              " 'have',\n",
              " 'he',\n",
              " 'hence',\n",
              " 'her',\n",
              " 'here',\n",
              " 'hereafter',\n",
              " 'hereby',\n",
              " 'herein',\n",
              " 'hereupon',\n",
              " 'hers',\n",
              " 'herself',\n",
              " 'him',\n",
              " 'himself',\n",
              " 'his',\n",
              " 'how',\n",
              " 'however',\n",
              " 'hundred',\n",
              " 'i',\n",
              " 'if',\n",
              " 'in',\n",
              " 'indeed',\n",
              " 'into',\n",
              " 'is',\n",
              " 'it',\n",
              " 'its',\n",
              " 'itself',\n",
              " 'just',\n",
              " 'keep',\n",
              " 'last',\n",
              " 'latter',\n",
              " 'latterly',\n",
              " 'least',\n",
              " 'less',\n",
              " 'made',\n",
              " 'make',\n",
              " 'many',\n",
              " 'may',\n",
              " 'me',\n",
              " 'meanwhile',\n",
              " 'might',\n",
              " 'mine',\n",
              " 'more',\n",
              " 'moreover',\n",
              " 'most',\n",
              " 'mostly',\n",
              " 'move',\n",
              " 'much',\n",
              " 'must',\n",
              " 'my',\n",
              " 'myself',\n",
              " \"n't\",\n",
              " 'name',\n",
              " 'namely',\n",
              " 'neither',\n",
              " 'never',\n",
              " 'nevertheless',\n",
              " 'next',\n",
              " 'nine',\n",
              " 'no',\n",
              " 'nobody',\n",
              " 'none',\n",
              " 'noone',\n",
              " 'nor',\n",
              " 'not',\n",
              " 'nothing',\n",
              " 'now',\n",
              " 'nowhere',\n",
              " 'n‘t',\n",
              " 'n’t',\n",
              " 'of',\n",
              " 'off',\n",
              " 'often',\n",
              " 'on',\n",
              " 'once',\n",
              " 'one',\n",
              " 'only',\n",
              " 'onto',\n",
              " 'or',\n",
              " 'other',\n",
              " 'others',\n",
              " 'otherwise',\n",
              " 'our',\n",
              " 'ours',\n",
              " 'ourselves',\n",
              " 'out',\n",
              " 'over',\n",
              " 'own',\n",
              " 'part',\n",
              " 'per',\n",
              " 'perhaps',\n",
              " 'please',\n",
              " 'put',\n",
              " 'quite',\n",
              " 'rather',\n",
              " 're',\n",
              " 'really',\n",
              " 'regarding',\n",
              " 'same',\n",
              " 'say',\n",
              " 'see',\n",
              " 'seem',\n",
              " 'seemed',\n",
              " 'seeming',\n",
              " 'seems',\n",
              " 'serious',\n",
              " 'several',\n",
              " 'she',\n",
              " 'should',\n",
              " 'show',\n",
              " 'side',\n",
              " 'since',\n",
              " 'six',\n",
              " 'sixty',\n",
              " 'so',\n",
              " 'some',\n",
              " 'somehow',\n",
              " 'someone',\n",
              " 'something',\n",
              " 'sometime',\n",
              " 'sometimes',\n",
              " 'somewhere',\n",
              " 'still',\n",
              " 'such',\n",
              " 'take',\n",
              " 'ten',\n",
              " 'than',\n",
              " 'that',\n",
              " 'the',\n",
              " 'their',\n",
              " 'them',\n",
              " 'themselves',\n",
              " 'then',\n",
              " 'thence',\n",
              " 'there',\n",
              " 'thereafter',\n",
              " 'thereby',\n",
              " 'therefore',\n",
              " 'therein',\n",
              " 'thereupon',\n",
              " 'these',\n",
              " 'they',\n",
              " 'third',\n",
              " 'this',\n",
              " 'those',\n",
              " 'though',\n",
              " 'three',\n",
              " 'through',\n",
              " 'throughout',\n",
              " 'thru',\n",
              " 'thus',\n",
              " 'to',\n",
              " 'together',\n",
              " 'too',\n",
              " 'top',\n",
              " 'toward',\n",
              " 'towards',\n",
              " 'twelve',\n",
              " 'twenty',\n",
              " 'two',\n",
              " 'under',\n",
              " 'unless',\n",
              " 'until',\n",
              " 'up',\n",
              " 'upon',\n",
              " 'us',\n",
              " 'used',\n",
              " 'using',\n",
              " 'various',\n",
              " 'very',\n",
              " 'via',\n",
              " 'was',\n",
              " 'we',\n",
              " 'well',\n",
              " 'were',\n",
              " 'what',\n",
              " 'whatever',\n",
              " 'when',\n",
              " 'whence',\n",
              " 'whenever',\n",
              " 'where',\n",
              " 'whereafter',\n",
              " 'whereas',\n",
              " 'whereby',\n",
              " 'wherein',\n",
              " 'whereupon',\n",
              " 'wherever',\n",
              " 'whether',\n",
              " 'which',\n",
              " 'while',\n",
              " 'whither',\n",
              " 'who',\n",
              " 'whoever',\n",
              " 'whole',\n",
              " 'whom',\n",
              " 'whose',\n",
              " 'why',\n",
              " 'will',\n",
              " 'with',\n",
              " 'within',\n",
              " 'without',\n",
              " 'would',\n",
              " 'yet',\n",
              " 'you',\n",
              " 'your',\n",
              " 'yours',\n",
              " 'yourself',\n",
              " 'yourselves',\n",
              " '‘d',\n",
              " '‘ll',\n",
              " '‘m',\n",
              " '‘re',\n",
              " '‘s',\n",
              " '‘ve',\n",
              " '’d',\n",
              " '’ll',\n",
              " '’m',\n",
              " '’re',\n",
              " '’s',\n",
              " '’ve'}"
            ]
          },
          "metadata": {},
          "execution_count": 4
        }
      ]
    },
    {
      "cell_type": "code",
      "source": [
        "# Print the number of default stop words\n",
        "len(nlp.Defaults.stop_words)"
      ],
      "metadata": {
        "colab": {
          "base_uri": "https://localhost:8080/"
        },
        "id": "aSmQXbUL959g",
        "outputId": "f7826fd0-3e66-4be2-f3c6-dd53492a0332"
      },
      "execution_count": 5,
      "outputs": [
        {
          "output_type": "execute_result",
          "data": {
            "text/plain": [
              "326"
            ]
          },
          "metadata": {},
          "execution_count": 5
        }
      ]
    },
    {
      "cell_type": "markdown",
      "source": [
        "#2.Checking is the word is a stop_word or not\n"
      ],
      "metadata": {
        "id": "v5M7t9Lb-qvd"
      }
    },
    {
      "cell_type": "code",
      "source": [
        "# Check if the word 'is' is a stop word\n",
        "nlp.vocab['is'].is_stop"
      ],
      "metadata": {
        "colab": {
          "base_uri": "https://localhost:8080/"
        },
        "id": "fbIhdUDw-NlO",
        "outputId": "ca6dbb1d-f2fb-42c4-c6f1-e734571022d7"
      },
      "execution_count": 6,
      "outputs": [
        {
          "output_type": "execute_result",
          "data": {
            "text/plain": [
              "True"
            ]
          },
          "metadata": {},
          "execution_count": 6
        }
      ]
    },
    {
      "cell_type": "code",
      "source": [
        "# Check if the word 'word' is a stop word\n",
        "nlp.vocab['word'].is_stop"
      ],
      "metadata": {
        "colab": {
          "base_uri": "https://localhost:8080/"
        },
        "id": "_MtuNIxn-TJL",
        "outputId": "c60f9ccb-ad44-4808-c2ac-3329d999dd89"
      },
      "execution_count": 7,
      "outputs": [
        {
          "output_type": "execute_result",
          "data": {
            "text/plain": [
              "False"
            ]
          },
          "metadata": {},
          "execution_count": 7
        }
      ]
    },
    {
      "cell_type": "markdown",
      "source": [
        "#Adding custom words into the list of D]StopWords"
      ],
      "metadata": {
        "id": "E5hFyfho-74Q"
      }
    },
    {
      "cell_type": "code",
      "source": [
        "# Add the custom word 'word' to the set of stop words\n",
        "nlp.Defaults.stop_words.add('word')"
      ],
      "metadata": {
        "id": "Fr_IxYUd-gtp"
      },
      "execution_count": 8,
      "outputs": []
    },
    {
      "cell_type": "code",
      "source": [
        "# Re-check if the word 'word' is now a stop word after adding it\n",
        "nlp.vocab['word'].is_stop"
      ],
      "metadata": {
        "colab": {
          "base_uri": "https://localhost:8080/"
        },
        "id": "kwztXHm8_I6z",
        "outputId": "40acb08d-a34f-44d6-c84b-5082867f7113"
      },
      "execution_count": 9,
      "outputs": [
        {
          "output_type": "execute_result",
          "data": {
            "text/plain": [
              "False"
            ]
          },
          "metadata": {},
          "execution_count": 9
        }
      ]
    },
    {
      "cell_type": "code",
      "source": [
        "# Print the updated number of stop words\n",
        "len(nlp.Defaults.stop_words)"
      ],
      "metadata": {
        "colab": {
          "base_uri": "https://localhost:8080/"
        },
        "id": "3PTLdkmU_O-5",
        "outputId": "515bdf61-1a16-484c-c55f-3b0ad9b55a7d"
      },
      "execution_count": 10,
      "outputs": [
        {
          "output_type": "execute_result",
          "data": {
            "text/plain": [
              "327"
            ]
          },
          "metadata": {},
          "execution_count": 10
        }
      ]
    },
    {
      "cell_type": "markdown",
      "source": [
        "#4.Removing custom Words fromt he list of StopWords"
      ],
      "metadata": {
        "id": "Q4r3ZzkY_ewk"
      }
    },
    {
      "cell_type": "code",
      "source": [
        "# Check the status of 'word' as a stop word before removing it\n",
        "nlp.vocab['word'].is_stop"
      ],
      "metadata": {
        "colab": {
          "base_uri": "https://localhost:8080/"
        },
        "id": "etmT2ii2_Sw5",
        "outputId": "950a9121-f0f5-4f3b-99c0-d2e0ed1be698"
      },
      "execution_count": 11,
      "outputs": [
        {
          "output_type": "execute_result",
          "data": {
            "text/plain": [
              "False"
            ]
          },
          "metadata": {},
          "execution_count": 11
        }
      ]
    },
    {
      "cell_type": "code",
      "source": [
        "# Remove the custom word 'word' from the set of stop words\n",
        "nlp.Defaults.stop_words.remove('word')"
      ],
      "metadata": {
        "id": "vQ2uKDS8_r7b"
      },
      "execution_count": 12,
      "outputs": []
    },
    {
      "cell_type": "code",
      "source": [
        "# Check if 'word' is a stop word after removing it\n",
        "nlp.vocab['word'].is_stop#word is not the stopWord any more"
      ],
      "metadata": {
        "colab": {
          "base_uri": "https://localhost:8080/"
        },
        "id": "eP-ToBKf_xJX",
        "outputId": "535fb01b-ecec-4c13-a8ab-93a1b28afada"
      },
      "execution_count": 13,
      "outputs": [
        {
          "output_type": "execute_result",
          "data": {
            "text/plain": [
              "False"
            ]
          },
          "metadata": {},
          "execution_count": 13
        }
      ]
    },
    {
      "cell_type": "markdown",
      "source": [
        "#5.Removing StopWords from Corpus"
      ],
      "metadata": {
        "id": "57SneyTjCKUG"
      }
    },
    {
      "cell_type": "code",
      "source": [
        "# Define the text (corpus) again for removing stop words\n",
        "txt='''\n",
        "Data science is the study of data. Like biological sciences is a study of biology, physical sciences, it’s the study of physical reactions. Data is real, data has real properties, and we need to study them if we’re going to work on them. Data Science involves data and some signs.\n",
        "\n",
        "It is a process, not an event. It is the process of using data to understand too many different things, to understand the world. Let Suppose when you have a model or proposed explanation of a problem, and you try to validate that proposed explanation or model with your data.\n",
        "\n",
        "It is the skill of unfolding the insights and trends that are hiding (or abstract) behind data. It’s when you translate data into a story. So use storytelling to generate insight. And with these insights, you can make strategic choices for a company or an institution.\n",
        "\n",
        "We can also define data science as a field that is about processes and systems to extract data of various forms and from various resources whether the data is unstructured or structured.\n",
        "The definition and the name came up in the 1980s and 1990s when some professors, IT Professionals, scientists were looking into the statistics curriculum, and they thought it would be better to call it data science and then later on data analytics derived.\n",
        "'''\n",
        "# Display the original text\n",
        "txt"
      ],
      "metadata": {
        "colab": {
          "base_uri": "https://localhost:8080/",
          "height": 139
        },
        "id": "EIJP1r7D_zAn",
        "outputId": "364c0c3a-2877-4ef9-9254-4c955c2d4fc0"
      },
      "execution_count": 14,
      "outputs": [
        {
          "output_type": "execute_result",
          "data": {
            "text/plain": [
              "'\\nData science is the study of data. Like biological sciences is a study of biology, physical sciences, it’s the study of physical reactions. Data is real, data has real properties, and we need to study them if we’re going to work on them. Data Science involves data and some signs.\\n\\nIt is a process, not an event. It is the process of using data to understand too many different things, to understand the world. Let Suppose when you have a model or proposed explanation of a problem, and you try to validate that proposed explanation or model with your data.\\n\\nIt is the skill of unfolding the insights and trends that are hiding (or abstract) behind data. It’s when you translate data into a story. So use storytelling to generate insight. And with these insights, you can make strategic choices for a company or an institution.\\n\\nWe can also define data science as a field that is about processes and systems to extract data of various forms and from various resources whether the data is unstructured or structured.\\nThe definition and the name came up in the 1980s and 1990s when some professors, IT Professionals, scientists were looking into the statistics curriculum, and they thought it would be better to call it data science and then later on data analytics derived.\\n'"
            ],
            "application/vnd.google.colaboratory.intrinsic+json": {
              "type": "string"
            }
          },
          "metadata": {},
          "execution_count": 14
        }
      ]
    },
    {
      "cell_type": "code",
      "source": [
        "# Clean the text by removing newline characters, multiple spaces, and leading/trailing spaces\n",
        "txt=txt.replace('\\n','')\n",
        "txt=txt.replace('  ','')\n",
        "txt=txt.strip()\n",
        "# Display the cleaned text\n",
        "txt"
      ],
      "metadata": {
        "colab": {
          "base_uri": "https://localhost:8080/",
          "height": 139
        },
        "id": "ZD7hlPTOCWlZ",
        "outputId": "7bd047b6-6459-4c9e-d97a-68568529a3b1"
      },
      "execution_count": 15,
      "outputs": [
        {
          "output_type": "execute_result",
          "data": {
            "text/plain": [
              "'Data science is the study of data. Like biological sciences is a study of biology, physical sciences, it’s the study of physical reactions. Data is real, data has real properties, and we need to study them if we’re going to work on them. Data Science involves data and some signs.It is a process, not an event. It is the process of using data to understand too many different things, to understand the world. Let Suppose when you have a model or proposed explanation of a problem, and you try to validate that proposed explanation or model with your data.It is the skill of unfolding the insights and trends that are hiding (or abstract) behind data. It’s when you translate data into a story. So use storytelling to generate insight. And with these insights, you can make strategic choices for a company or an institution.We can also define data science as a field that is about processes and systems to extract data of various forms and from various resources whether the data is unstructured or structured.The definition and the name came up in the 1980s and 1990s when some professors, IT Professionals, scientists were looking into the statistics curriculum, and they thought it would be better to call it data science and then later on data analytics derived.'"
            ],
            "application/vnd.google.colaboratory.intrinsic+json": {
              "type": "string"
            }
          },
          "metadata": {},
          "execution_count": 15
        }
      ]
    },
    {
      "cell_type": "code",
      "source": [
        "# Process the cleaned text using the loaded spacy model\n",
        "corp=nlp(txt)"
      ],
      "metadata": {
        "id": "UxdkimsNCkj6"
      },
      "execution_count": 16,
      "outputs": []
    },
    {
      "cell_type": "code",
      "source": [
        "# Display the processed spacy document\n",
        "corp"
      ],
      "metadata": {
        "colab": {
          "base_uri": "https://localhost:8080/"
        },
        "id": "0lpry4gCCxHB",
        "outputId": "ef80f3de-d623-4d01-a894-3c13563a5078"
      },
      "execution_count": 17,
      "outputs": [
        {
          "output_type": "execute_result",
          "data": {
            "text/plain": [
              "Data science is the study of data. Like biological sciences is a study of biology, physical sciences, it’s the study of physical reactions. Data is real, data has real properties, and we need to study them if we’re going to work on them. Data Science involves data and some signs.It is a process, not an event. It is the process of using data to understand too many different things, to understand the world. Let Suppose when you have a model or proposed explanation of a problem, and you try to validate that proposed explanation or model with your data.It is the skill of unfolding the insights and trends that are hiding (or abstract) behind data. It’s when you translate data into a story. So use storytelling to generate insight. And with these insights, you can make strategic choices for a company or an institution.We can also define data science as a field that is about processes and systems to extract data of various forms and from various resources whether the data is unstructured or structured.The definition and the name came up in the 1980s and 1990s when some professors, IT Professionals, scientists were looking into the statistics curriculum, and they thought it would be better to call it data science and then later on data analytics derived."
            ]
          },
          "metadata": {},
          "execution_count": 17
        }
      ]
    },
    {
      "cell_type": "markdown",
      "source": [
        "#5.1-Finding StopWords from the Corpus"
      ],
      "metadata": {
        "id": "3mlOqjKNEMpC"
      }
    },
    {
      "cell_type": "code",
      "source": [
        "# Find and list all stop words present in the corpus\n",
        "stop_words = []\n",
        "for token in corp:\n",
        "  if token.is_stop:\n",
        "    stop_words.append(token.text)\n",
        "\n",
        "# Print the list of stop words found\n",
        "print(stop_words)\n",
        "# Print the count of stop words found\n",
        "print(len(stop_words))"
      ],
      "metadata": {
        "colab": {
          "base_uri": "https://localhost:8080/"
        },
        "id": "qxSoL6UhCx3B",
        "outputId": "46841eee-6be4-4ddd-b82e-3126b5f73075"
      },
      "execution_count": 18,
      "outputs": [
        {
          "output_type": "stream",
          "name": "stdout",
          "text": [
            "['is', 'the', 'of', 'is', 'a', 'of', 'it', '’s', 'the', 'of', 'is', 'has', 'and', 'we', 'to', 'them', 'if', 'we', '’re', 'to', 'on', 'them', 'and', 'some', 'It', 'is', 'a', 'not', 'an', 'It', 'is', 'the', 'of', 'using', 'to', 'too', 'many', 'to', 'the', 'when', 'you', 'have', 'a', 'or', 'of', 'a', 'and', 'you', 'to', 'that', 'or', 'with', 'your', 'It', 'is', 'the', 'of', 'the', 'and', 'that', 'are', 'or', 'behind', 'It', '’s', 'when', 'you', 'into', 'a', 'So', 'to', 'And', 'with', 'these', 'you', 'can', 'make', 'for', 'a', 'or', 'an', 'We', 'can', 'also', 'as', 'a', 'that', 'is', 'about', 'and', 'to', 'of', 'various', 'and', 'from', 'various', 'whether', 'the', 'is', 'or', 'The', 'and', 'the', 'name', 'up', 'in', 'the', 'and', 'when', 'some', 'IT', 'were', 'into', 'the', 'and', 'they', 'it', 'would', 'be', 'to', 'call', 'it', 'and', 'then', 'on']\n",
            "125\n"
          ]
        }
      ]
    },
    {
      "cell_type": "code",
      "source": [
        "# Print the number of unique stop words found in the corpus\n",
        "len(set(stop_words))"
      ],
      "metadata": {
        "colab": {
          "base_uri": "https://localhost:8080/"
        },
        "id": "Tm8QYboTDMoh",
        "outputId": "64f1defb-268a-4c0c-faf4-93399a7023ea"
      },
      "execution_count": 19,
      "outputs": [
        {
          "output_type": "execute_result",
          "data": {
            "text/plain": [
              "55"
            ]
          },
          "metadata": {},
          "execution_count": 19
        }
      ]
    },
    {
      "cell_type": "code",
      "source": [
        "# Display the list of stop words found in the corpus\n",
        "stop_words"
      ],
      "metadata": {
        "colab": {
          "base_uri": "https://localhost:8080/"
        },
        "id": "ZKaPO3MKDRQ9",
        "outputId": "0646feb2-abcf-4f84-f6f4-e9e03f779445"
      },
      "execution_count": 20,
      "outputs": [
        {
          "output_type": "execute_result",
          "data": {
            "text/plain": [
              "['is',\n",
              " 'the',\n",
              " 'of',\n",
              " 'is',\n",
              " 'a',\n",
              " 'of',\n",
              " 'it',\n",
              " '’s',\n",
              " 'the',\n",
              " 'of',\n",
              " 'is',\n",
              " 'has',\n",
              " 'and',\n",
              " 'we',\n",
              " 'to',\n",
              " 'them',\n",
              " 'if',\n",
              " 'we',\n",
              " '’re',\n",
              " 'to',\n",
              " 'on',\n",
              " 'them',\n",
              " 'and',\n",
              " 'some',\n",
              " 'It',\n",
              " 'is',\n",
              " 'a',\n",
              " 'not',\n",
              " 'an',\n",
              " 'It',\n",
              " 'is',\n",
              " 'the',\n",
              " 'of',\n",
              " 'using',\n",
              " 'to',\n",
              " 'too',\n",
              " 'many',\n",
              " 'to',\n",
              " 'the',\n",
              " 'when',\n",
              " 'you',\n",
              " 'have',\n",
              " 'a',\n",
              " 'or',\n",
              " 'of',\n",
              " 'a',\n",
              " 'and',\n",
              " 'you',\n",
              " 'to',\n",
              " 'that',\n",
              " 'or',\n",
              " 'with',\n",
              " 'your',\n",
              " 'It',\n",
              " 'is',\n",
              " 'the',\n",
              " 'of',\n",
              " 'the',\n",
              " 'and',\n",
              " 'that',\n",
              " 'are',\n",
              " 'or',\n",
              " 'behind',\n",
              " 'It',\n",
              " '’s',\n",
              " 'when',\n",
              " 'you',\n",
              " 'into',\n",
              " 'a',\n",
              " 'So',\n",
              " 'to',\n",
              " 'And',\n",
              " 'with',\n",
              " 'these',\n",
              " 'you',\n",
              " 'can',\n",
              " 'make',\n",
              " 'for',\n",
              " 'a',\n",
              " 'or',\n",
              " 'an',\n",
              " 'We',\n",
              " 'can',\n",
              " 'also',\n",
              " 'as',\n",
              " 'a',\n",
              " 'that',\n",
              " 'is',\n",
              " 'about',\n",
              " 'and',\n",
              " 'to',\n",
              " 'of',\n",
              " 'various',\n",
              " 'and',\n",
              " 'from',\n",
              " 'various',\n",
              " 'whether',\n",
              " 'the',\n",
              " 'is',\n",
              " 'or',\n",
              " 'The',\n",
              " 'and',\n",
              " 'the',\n",
              " 'name',\n",
              " 'up',\n",
              " 'in',\n",
              " 'the',\n",
              " 'and',\n",
              " 'when',\n",
              " 'some',\n",
              " 'IT',\n",
              " 'were',\n",
              " 'into',\n",
              " 'the',\n",
              " 'and',\n",
              " 'they',\n",
              " 'it',\n",
              " 'would',\n",
              " 'be',\n",
              " 'to',\n",
              " 'call',\n",
              " 'it',\n",
              " 'and',\n",
              " 'then',\n",
              " 'on']"
            ]
          },
          "metadata": {},
          "execution_count": 20
        }
      ]
    },
    {
      "cell_type": "markdown",
      "source": [
        "#5.2-Finding the words that doesn't belong to stopwords"
      ],
      "metadata": {
        "id": "UJSS_NXJD519"
      }
    },
    {
      "cell_type": "code",
      "source": [
        "# Iterate through the tokens in the corpus and print tokens that are not stop words\n",
        "for token in corp:\n",
        "  if not token.is_stop:\n",
        "    print(token)"
      ],
      "metadata": {
        "colab": {
          "base_uri": "https://localhost:8080/"
        },
        "id": "YWbV9ZkqDV0s",
        "outputId": "c90c8914-51fb-4dda-ec35-9dffdc878421"
      },
      "execution_count": 21,
      "outputs": [
        {
          "output_type": "stream",
          "name": "stdout",
          "text": [
            "Data\n",
            "science\n",
            "study\n",
            "data\n",
            ".\n",
            "Like\n",
            "biological\n",
            "sciences\n",
            "study\n",
            "biology\n",
            ",\n",
            "physical\n",
            "sciences\n",
            ",\n",
            "study\n",
            "physical\n",
            "reactions\n",
            ".\n",
            "Data\n",
            "real\n",
            ",\n",
            "data\n",
            "real\n",
            "properties\n",
            ",\n",
            "need\n",
            "study\n",
            "going\n",
            "work\n",
            ".\n",
            "Data\n",
            "Science\n",
            "involves\n",
            "data\n",
            "signs\n",
            ".\n",
            "process\n",
            ",\n",
            "event\n",
            ".\n",
            "process\n",
            "data\n",
            "understand\n",
            "different\n",
            "things\n",
            ",\n",
            "understand\n",
            "world\n",
            ".\n",
            "Let\n",
            "Suppose\n",
            "model\n",
            "proposed\n",
            "explanation\n",
            "problem\n",
            ",\n",
            "try\n",
            "validate\n",
            "proposed\n",
            "explanation\n",
            "model\n",
            "data\n",
            ".\n",
            "skill\n",
            "unfolding\n",
            "insights\n",
            "trends\n",
            "hiding\n",
            "(\n",
            "abstract\n",
            ")\n",
            "data\n",
            ".\n",
            "translate\n",
            "data\n",
            "story\n",
            ".\n",
            "use\n",
            "storytelling\n",
            "generate\n",
            "insight\n",
            ".\n",
            "insights\n",
            ",\n",
            "strategic\n",
            "choices\n",
            "company\n",
            "institution\n",
            ".\n",
            "define\n",
            "data\n",
            "science\n",
            "field\n",
            "processes\n",
            "systems\n",
            "extract\n",
            "data\n",
            "forms\n",
            "resources\n",
            "data\n",
            "unstructured\n",
            "structured\n",
            ".\n",
            "definition\n",
            "came\n",
            "1980s\n",
            "1990s\n",
            "professors\n",
            ",\n",
            "Professionals\n",
            ",\n",
            "scientists\n",
            "looking\n",
            "statistics\n",
            "curriculum\n",
            ",\n",
            "thought\n",
            "better\n",
            "data\n",
            "science\n",
            "later\n",
            "data\n",
            "analytics\n",
            "derived\n",
            ".\n"
          ]
        }
      ]
    },
    {
      "cell_type": "code",
      "source": [
        "# Join the non-stop words back into a string\n",
        "\" \".join([token.text for token in corp if not token.is_stop])"
      ],
      "metadata": {
        "colab": {
          "base_uri": "https://localhost:8080/",
          "height": 105
        },
        "id": "lkqXD7RVEq2E",
        "outputId": "dbeaff58-4dff-4a09-fc68-8cd7ae756aec"
      },
      "execution_count": 22,
      "outputs": [
        {
          "output_type": "execute_result",
          "data": {
            "text/plain": [
              "'Data science study data . Like biological sciences study biology , physical sciences , study physical reactions . Data real , data real properties , need study going work . Data Science involves data signs . process , event . process data understand different things , understand world . Let Suppose model proposed explanation problem , try validate proposed explanation model data . skill unfolding insights trends hiding ( abstract ) data . translate data story . use storytelling generate insight . insights , strategic choices company institution . define data science field processes systems extract data forms resources data unstructured structured . definition came 1980s 1990s professors , Professionals , scientists looking statistics curriculum , thought better data science later data analytics derived .'"
            ],
            "application/vnd.google.colaboratory.intrinsic+json": {
              "type": "string"
            }
          },
          "metadata": {},
          "execution_count": 22
        }
      ]
    },
    {
      "cell_type": "markdown",
      "source": [
        "stop_words = set(): Initializes an empty set to store stopwords.\n",
        "\n",
        "for token in corp:: Loops through each token in corp.\n",
        "\n",
        "if token.is_stop:: Checks if the token is a stopword.\n",
        "\n",
        "stop_words.add(token.text): Adds stopword to the set.\n",
        "\n",
        "print(stop_words): Prints the unique stopwords found.\n",
        "\n",
        "print(len(stop_words)): Prints the number of unique stopwo"
      ],
      "metadata": {
        "id": "2-D_NozvGTyN"
      }
    },
    {
      "cell_type": "markdown",
      "metadata": {
        "id": "a7b15161"
      },
      "source": [
        "# Explanation of the code to find unique stopwords in the corpus\n",
        "stop_words = set(): Initializes an empty set to store stopwords.\n",
        "\n",
        "for token in corp:: Loops through each token in corp.\n",
        "\n",
        "if token.is_stop:: Checks if the token is a stopword.\n",
        "\n",
        "stop_words.add(token.text): Adds stopword to the set.\n",
        "\n",
        "print(stop_words): Prints the unique stopwords found.\n",
        "\n",
        "print(len(stop_words)): Prints the number of unique stopwo"
      ]
    }
  ]
}