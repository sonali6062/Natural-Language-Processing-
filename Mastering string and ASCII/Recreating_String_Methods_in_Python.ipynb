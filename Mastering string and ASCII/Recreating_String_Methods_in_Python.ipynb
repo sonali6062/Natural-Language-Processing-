{
  "nbformat": 4,
  "nbformat_minor": 0,
  "metadata": {
    "colab": {
      "provenance": []
    },
    "kernelspec": {
      "name": "python3",
      "display_name": "Python 3"
    },
    "language_info": {
      "name": "python"
    }
  },
  "cells": [
    {
      "cell_type": "markdown",
      "source": [
        "#Capitalize"
      ],
      "metadata": {
        "id": "isw7WG-PRB5y"
      }
    },
    {
      "cell_type": "code",
      "execution_count": 1,
      "metadata": {
        "id": "qUr3Mif5QxTb"
      },
      "outputs": [],
      "source": [
        "text='the quick brown fox jumps off a cliff'"
      ]
    },
    {
      "cell_type": "code",
      "source": [
        "text"
      ],
      "metadata": {
        "colab": {
          "base_uri": "https://localhost:8080/",
          "height": 35
        },
        "id": "qZNIc1qwRMj-",
        "outputId": "ab8de8fd-5731-4adc-ea04-96e6fe747ad9"
      },
      "execution_count": 2,
      "outputs": [
        {
          "output_type": "execute_result",
          "data": {
            "text/plain": [
              "'the quick brown fox jumps off a cliff'"
            ],
            "application/vnd.google.colaboratory.intrinsic+json": {
              "type": "string"
            }
          },
          "metadata": {},
          "execution_count": 2
        }
      ]
    },
    {
      "cell_type": "code",
      "source": [
        "text.capitalize()"
      ],
      "metadata": {
        "colab": {
          "base_uri": "https://localhost:8080/",
          "height": 35
        },
        "id": "i4FM_Qx1ROo6",
        "outputId": "6ae11966-659d-47d1-8a04-1d5de1405723"
      },
      "execution_count": 3,
      "outputs": [
        {
          "output_type": "execute_result",
          "data": {
            "text/plain": [
              "'The quick brown fox jumps off a cliff'"
            ],
            "application/vnd.google.colaboratory.intrinsic+json": {
              "type": "string"
            }
          },
          "metadata": {},
          "execution_count": 3
        }
      ]
    },
    {
      "cell_type": "code",
      "source": [
        "text[0].upper()"
      ],
      "metadata": {
        "colab": {
          "base_uri": "https://localhost:8080/",
          "height": 35
        },
        "id": "zRyCzmvdRhH-",
        "outputId": "3c95a202-227f-4d42-bc26-d8a679ec8828"
      },
      "execution_count": 4,
      "outputs": [
        {
          "output_type": "execute_result",
          "data": {
            "text/plain": [
              "'T'"
            ],
            "application/vnd.google.colaboratory.intrinsic+json": {
              "type": "string"
            }
          },
          "metadata": {},
          "execution_count": 4
        }
      ]
    },
    {
      "cell_type": "code",
      "source": [
        "text[0] # Get the first character of the string"
      ],
      "metadata": {
        "colab": {
          "base_uri": "https://localhost:8080/",
          "height": 35
        },
        "id": "k1_pWhuLRRuk",
        "outputId": "1348ef89-a774-4563-8c1c-dbcd48d225fe"
      },
      "execution_count": 5,
      "outputs": [
        {
          "output_type": "execute_result",
          "data": {
            "text/plain": [
              "'t'"
            ],
            "application/vnd.google.colaboratory.intrinsic+json": {
              "type": "string"
            }
          },
          "metadata": {},
          "execution_count": 5
        }
      ]
    },
    {
      "cell_type": "code",
      "source": [
        "text[1:] # Get all characters from the second character onwards"
      ],
      "metadata": {
        "colab": {
          "base_uri": "https://localhost:8080/",
          "height": 35
        },
        "id": "OqGu9eYuRVoh",
        "outputId": "ed9569ea-05c4-4e38-ce18-388a48002b8c"
      },
      "execution_count": 6,
      "outputs": [
        {
          "output_type": "execute_result",
          "data": {
            "text/plain": [
              "'he quick brown fox jumps off a cliff'"
            ],
            "application/vnd.google.colaboratory.intrinsic+json": {
              "type": "string"
            }
          },
          "metadata": {},
          "execution_count": 6
        }
      ]
    },
    {
      "cell_type": "code",
      "source": [
        "text[0].upper()+text[1:] # Capitalize the first character and concatenate it with the rest of the string"
      ],
      "metadata": {
        "colab": {
          "base_uri": "https://localhost:8080/",
          "height": 35
        },
        "id": "CgkQoNjARXZC",
        "outputId": "e93b0a5f-6f0c-4563-a7b7-3e2b27e10402"
      },
      "execution_count": 7,
      "outputs": [
        {
          "output_type": "execute_result",
          "data": {
            "text/plain": [
              "'The quick brown fox jumps off a cliff'"
            ],
            "application/vnd.google.colaboratory.intrinsic+json": {
              "type": "string"
            }
          },
          "metadata": {},
          "execution_count": 7
        }
      ]
    },
    {
      "cell_type": "code",
      "source": [
        "text='the quick brown fox jumps OFF a cliff' # Assign a new string value to the variable 'text'"
      ],
      "metadata": {
        "id": "-curjq4wReeB"
      },
      "execution_count": 8,
      "outputs": []
    },
    {
      "cell_type": "code",
      "source": [
        "text[0].upper()+text[1:] # Capitalize the first character and concatenate it with the rest of the string"
      ],
      "metadata": {
        "colab": {
          "base_uri": "https://localhost:8080/",
          "height": 35
        },
        "id": "yyDfRvhqR3Ey",
        "outputId": "2c0df5c5-28f6-4db5-cd3a-a5b0a5863d0e"
      },
      "execution_count": 9,
      "outputs": [
        {
          "output_type": "execute_result",
          "data": {
            "text/plain": [
              "'The quick brown fox jumps OFF a cliff'"
            ],
            "application/vnd.google.colaboratory.intrinsic+json": {
              "type": "string"
            }
          },
          "metadata": {},
          "execution_count": 9
        }
      ]
    },
    {
      "cell_type": "code",
      "source": [
        "text[0].upper()+text[1:].lower() # Capitalize the first character and concatenate it with the rest of the string, converting the rest to lowercase"
      ],
      "metadata": {
        "colab": {
          "base_uri": "https://localhost:8080/",
          "height": 35
        },
        "id": "QT5LrWPLR5Ff",
        "outputId": "6b54268d-f5a7-4efc-d860-9ae5a3a7b776"
      },
      "execution_count": 10,
      "outputs": [
        {
          "output_type": "execute_result",
          "data": {
            "text/plain": [
              "'The quick brown fox jumps off a cliff'"
            ],
            "application/vnd.google.colaboratory.intrinsic+json": {
              "type": "string"
            }
          },
          "metadata": {},
          "execution_count": 10
        }
      ]
    },
    {
      "cell_type": "code",
      "source": [
        "text.capitalize()==(text[0].upper()+text[1:]) # Compare the output of text.capitalize() with manual capitalization"
      ],
      "metadata": {
        "colab": {
          "base_uri": "https://localhost:8080/"
        },
        "id": "SJNe7WV9R6yd",
        "outputId": "f7466810-3f05-4cba-af59-3f98bb51192b"
      },
      "execution_count": 11,
      "outputs": [
        {
          "output_type": "execute_result",
          "data": {
            "text/plain": [
              "False"
            ]
          },
          "metadata": {},
          "execution_count": 11
        }
      ]
    },
    {
      "cell_type": "code",
      "source": [
        "def capitalize(text):\n",
        "  # Check if the input text is not empty\n",
        "  if(len(text)!=0):\n",
        "    # Capitalize the first character and convert the rest to lowercase\n",
        "    return text[0].upper()+text[1:].lower()\n",
        "  # If the text is empty, return None\n",
        "  else:\n",
        "    return None\n",
        "\n",
        "# Summary: This function capitalizes the first letter of a string and converts the rest of the string to lowercase."
      ],
      "metadata": {
        "id": "7_vK8suDSD6K"
      },
      "execution_count": 12,
      "outputs": []
    },
    {
      "cell_type": "code",
      "source": [
        "capitalize('hello! HOW ARE YOU')"
      ],
      "metadata": {
        "colab": {
          "base_uri": "https://localhost:8080/",
          "height": 35
        },
        "id": "NxDujVb5SkDZ",
        "outputId": "413ecb08-a669-46e9-d908-7d725e59cc0b"
      },
      "execution_count": 13,
      "outputs": [
        {
          "output_type": "execute_result",
          "data": {
            "text/plain": [
              "'Hello! how are you'"
            ],
            "application/vnd.google.colaboratory.intrinsic+json": {
              "type": "string"
            }
          },
          "metadata": {},
          "execution_count": 13
        }
      ]
    },
    {
      "cell_type": "code",
      "source": [
        "capitalize(\"asfjgio458937\")"
      ],
      "metadata": {
        "colab": {
          "base_uri": "https://localhost:8080/",
          "height": 35
        },
        "id": "JpSLIjc3S1Yg",
        "outputId": "f5067233-32ef-4b06-87a4-92ac9fd86175"
      },
      "execution_count": 14,
      "outputs": [
        {
          "output_type": "execute_result",
          "data": {
            "text/plain": [
              "'Asfjgio458937'"
            ],
            "application/vnd.google.colaboratory.intrinsic+json": {
              "type": "string"
            }
          },
          "metadata": {},
          "execution_count": 14
        }
      ]
    },
    {
      "cell_type": "markdown",
      "source": [
        "#DIY Functions- upper() and lower()"
      ],
      "metadata": {
        "id": "t2R0NXqwTgE3"
      }
    },
    {
      "cell_type": "code",
      "source": [
        "txt='Hello! how are you?'\n",
        "txt"
      ],
      "metadata": {
        "colab": {
          "base_uri": "https://localhost:8080/",
          "height": 35
        },
        "id": "erwOIX6sS4eb",
        "outputId": "7a857735-a522-4f0a-dc7d-e15a4d895ca0"
      },
      "execution_count": 15,
      "outputs": [
        {
          "output_type": "execute_result",
          "data": {
            "text/plain": [
              "'Hello! how are you?'"
            ],
            "application/vnd.google.colaboratory.intrinsic+json": {
              "type": "string"
            }
          },
          "metadata": {},
          "execution_count": 15
        }
      ]
    },
    {
      "cell_type": "code",
      "source": [
        "txt.upper()"
      ],
      "metadata": {
        "colab": {
          "base_uri": "https://localhost:8080/",
          "height": 35
        },
        "id": "yPNg3P4sTvFU",
        "outputId": "ccfda440-d8ae-4b8d-84dc-96ec47a48845"
      },
      "execution_count": 16,
      "outputs": [
        {
          "output_type": "execute_result",
          "data": {
            "text/plain": [
              "'HELLO! HOW ARE YOU?'"
            ],
            "application/vnd.google.colaboratory.intrinsic+json": {
              "type": "string"
            }
          },
          "metadata": {},
          "execution_count": 16
        }
      ]
    },
    {
      "cell_type": "code",
      "source": [
        "txt.lower()"
      ],
      "metadata": {
        "colab": {
          "base_uri": "https://localhost:8080/",
          "height": 35
        },
        "id": "IFpdny5aTyPh",
        "outputId": "3e9ba85f-ce89-41cd-876c-9e14fffa31ab"
      },
      "execution_count": 17,
      "outputs": [
        {
          "output_type": "execute_result",
          "data": {
            "text/plain": [
              "'hello! how are you?'"
            ],
            "application/vnd.google.colaboratory.intrinsic+json": {
              "type": "string"
            }
          },
          "metadata": {},
          "execution_count": 17
        }
      ]
    },
    {
      "cell_type": "markdown",
      "source": [
        "#1. Uppercase function\n",
        "(65-90) uppercase\n",
        "(97-122) lowercase"
      ],
      "metadata": {
        "id": "OrVlKBpfT6gN"
      }
    },
    {
      "cell_type": "code",
      "source": [
        "for char in txt:\n",
        "  if(ord(char)>=65 and ord(char)<=90):\n",
        "    print(char,ord(char))\n",
        "  else:\n",
        "    print(char)"
      ],
      "metadata": {
        "colab": {
          "base_uri": "https://localhost:8080/"
        },
        "id": "Xr4n5dg3T2dJ",
        "outputId": "33373471-c91a-409c-f027-5f052f344dda"
      },
      "execution_count": 18,
      "outputs": [
        {
          "output_type": "stream",
          "name": "stdout",
          "text": [
            "H 72\n",
            "e\n",
            "l\n",
            "l\n",
            "o\n",
            "!\n",
            " \n",
            "h\n",
            "o\n",
            "w\n",
            " \n",
            "a\n",
            "r\n",
            "e\n",
            " \n",
            "y\n",
            "o\n",
            "u\n",
            "?\n"
          ]
        }
      ]
    },
    {
      "cell_type": "code",
      "source": [
        "txt.upper()"
      ],
      "metadata": {
        "colab": {
          "base_uri": "https://localhost:8080/",
          "height": 35
        },
        "id": "3IlJbDmcUav0",
        "outputId": "34d4e008-e184-4f40-ff86-9fb739054b18"
      },
      "execution_count": 19,
      "outputs": [
        {
          "output_type": "execute_result",
          "data": {
            "text/plain": [
              "'HELLO! HOW ARE YOU?'"
            ],
            "application/vnd.google.colaboratory.intrinsic+json": {
              "type": "string"
            }
          },
          "metadata": {},
          "execution_count": 19
        }
      ]
    },
    {
      "cell_type": "code",
      "source": [
        "ord('a')-ord('A')"
      ],
      "metadata": {
        "colab": {
          "base_uri": "https://localhost:8080/"
        },
        "id": "WvAMY_I5V7pD",
        "outputId": "67d0df71-b9de-4ee4-df0e-7da173bbe3a6"
      },
      "execution_count": 20,
      "outputs": [
        {
          "output_type": "execute_result",
          "data": {
            "text/plain": [
              "32"
            ]
          },
          "metadata": {},
          "execution_count": 20
        }
      ]
    },
    {
      "cell_type": "code",
      "source": [
        "def upper(text):\n",
        "  string=''\n",
        "  for char in text: # Iterate over the input text\n",
        "    if(ord(char)>=97 and ord(char)<=122): # Check if the character is a lowercase letter\n",
        "      string+=chr(ord(char)-32) # Convert lowercase to uppercase using ASCII values and append to string\n",
        "    else:\n",
        "      string+=char # Append the character as is if it's not a lowercase letter\n",
        "  return string"
      ],
      "metadata": {
        "id": "_Wno7k7hWEFU"
      },
      "execution_count": 21,
      "outputs": []
    },
    {
      "cell_type": "code",
      "source": [
        "upper('txt')"
      ],
      "metadata": {
        "colab": {
          "base_uri": "https://localhost:8080/",
          "height": 35
        },
        "id": "-YTjo1OPWELl",
        "outputId": "545f643c-fa76-40fc-fbee-56da1bf5f032"
      },
      "execution_count": 22,
      "outputs": [
        {
          "output_type": "execute_result",
          "data": {
            "text/plain": [
              "'TXT'"
            ],
            "application/vnd.google.colaboratory.intrinsic+json": {
              "type": "string"
            }
          },
          "metadata": {},
          "execution_count": 22
        }
      ]
    },
    {
      "cell_type": "code",
      "source": [],
      "metadata": {
        "id": "WCQz-vvtWEQb"
      },
      "execution_count": 22,
      "outputs": []
    },
    {
      "cell_type": "markdown",
      "source": [
        "#2.Lowercase function"
      ],
      "metadata": {
        "id": "EFWXqpozUrv6"
      }
    },
    {
      "cell_type": "code",
      "source": [
        "for char in txt:\n",
        "  if(ord(char)>=97 and ord(char)<=122):\n",
        "    print(char,ord(char))\n",
        "  else:\n",
        "    print(char)"
      ],
      "metadata": {
        "colab": {
          "base_uri": "https://localhost:8080/"
        },
        "id": "hRpTYAKfUjQ9",
        "outputId": "1655707b-1803-4c57-deb3-5c7eea870852"
      },
      "execution_count": 23,
      "outputs": [
        {
          "output_type": "stream",
          "name": "stdout",
          "text": [
            "H\n",
            "e 101\n",
            "l 108\n",
            "l 108\n",
            "o 111\n",
            "!\n",
            " \n",
            "h 104\n",
            "o 111\n",
            "w 119\n",
            " \n",
            "a 97\n",
            "r 114\n",
            "e 101\n",
            " \n",
            "y 121\n",
            "o 111\n",
            "u 117\n",
            "?\n"
          ]
        }
      ]
    },
    {
      "cell_type": "code",
      "source": [
        "def lower(text):\n",
        "  string=''\n",
        "  for char in text: # Iterate over the input text\n",
        "    if(ord(char)>=65 and ord(char)<=90): # Check if the character is a lowercase letter\n",
        "      string+=chr(ord(char)+32) # Convert lowercase to uppercase using ASCII values and append to string\n",
        "    else:\n",
        "      string+=char # Append the character as is if it's not a lowercase letter\n",
        "  return string"
      ],
      "metadata": {
        "id": "6EgSiV1yVJD9"
      },
      "execution_count": 24,
      "outputs": []
    },
    {
      "cell_type": "code",
      "source": [
        "lower('txt')"
      ],
      "metadata": {
        "colab": {
          "base_uri": "https://localhost:8080/",
          "height": 35
        },
        "id": "tnxhZF72XD-s",
        "outputId": "fc8d9195-4b0f-44be-f473-bad0af408b22"
      },
      "execution_count": 25,
      "outputs": [
        {
          "output_type": "execute_result",
          "data": {
            "text/plain": [
              "'txt'"
            ],
            "application/vnd.google.colaboratory.intrinsic+json": {
              "type": "string"
            }
          },
          "metadata": {},
          "execution_count": 25
        }
      ]
    },
    {
      "cell_type": "markdown",
      "source": [
        "#Library for capitalize, convert text to upper and convert text to lower"
      ],
      "metadata": {
        "id": "3licuWEDX29e"
      }
    },
    {
      "cell_type": "code",
      "source": [
        "def capitalize(text):\n",
        "  # Check if the input text is not empty\n",
        "  if(len(text)!=0):\n",
        "    # Capitalize the first character and convert the rest to lowercase\n",
        "    return text[0].upper()+text[1:].lower()\n",
        "  # If the text is empty, return None\n",
        "  else:\n",
        "    return None\n",
        "\n",
        "def upper(text):\n",
        "  string=''\n",
        "  for char in text: # Iterate over the input text\n",
        "    if(ord(char)>=97 and ord(char)<=122): # Check if the character is a lowercase letter\n",
        "      string+=chr(ord(char)-32) # Convert lowercase to uppercase using ASCII values and append to string\n",
        "    else:\n",
        "      string+=char # Append the character as is if it's not a lowercase letter\n",
        "  return string\n",
        "\n",
        "def lower(text):\n",
        "  string=''\n",
        "  for char in text: # Iterate over the input text\n",
        "    if(ord(char)>=65 and ord(char)<=90): # Check if the character is a lowercase letter\n",
        "      string+=chr(ord(char)+32) # Convert lowercase to uppercase using ASCII values and append to string\n",
        "    else:\n",
        "      string+=char # Append the character as is if it's not a lowercase letter\n",
        "  return string"
      ],
      "metadata": {
        "id": "W0uEzH_sXFj-"
      },
      "execution_count": 26,
      "outputs": []
    },
    {
      "cell_type": "code",
      "source": [
        "capitalize(txt)"
      ],
      "metadata": {
        "colab": {
          "base_uri": "https://localhost:8080/",
          "height": 35
        },
        "id": "TV_58YuFXeVt",
        "outputId": "e958fabb-2f3c-4ddb-a1d5-30294d00cd76"
      },
      "execution_count": 27,
      "outputs": [
        {
          "output_type": "execute_result",
          "data": {
            "text/plain": [
              "'Hello! how are you?'"
            ],
            "application/vnd.google.colaboratory.intrinsic+json": {
              "type": "string"
            }
          },
          "metadata": {},
          "execution_count": 27
        }
      ]
    },
    {
      "cell_type": "code",
      "source": [
        "upper(txt)"
      ],
      "metadata": {
        "colab": {
          "base_uri": "https://localhost:8080/",
          "height": 35
        },
        "id": "TTQu0q0mXhtK",
        "outputId": "167e9c7c-3ade-4451-9a2d-cd24d1494cbe"
      },
      "execution_count": 28,
      "outputs": [
        {
          "output_type": "execute_result",
          "data": {
            "text/plain": [
              "'HELLO! HOW ARE YOU?'"
            ],
            "application/vnd.google.colaboratory.intrinsic+json": {
              "type": "string"
            }
          },
          "metadata": {},
          "execution_count": 28
        }
      ]
    },
    {
      "cell_type": "code",
      "source": [
        "lower(txt)"
      ],
      "metadata": {
        "colab": {
          "base_uri": "https://localhost:8080/",
          "height": 35
        },
        "id": "kYqlhVPlXmVU",
        "outputId": "6dfabd19-1ef0-4885-beee-266334d61145"
      },
      "execution_count": 29,
      "outputs": [
        {
          "output_type": "execute_result",
          "data": {
            "text/plain": [
              "'hello! how are you?'"
            ],
            "application/vnd.google.colaboratory.intrinsic+json": {
              "type": "string"
            }
          },
          "metadata": {},
          "execution_count": 29
        }
      ]
    },
    {
      "cell_type": "markdown",
      "source": [
        "#DIY Function-Checking the data"
      ],
      "metadata": {
        "id": "Ra3rsqj5YF17"
      }
    },
    {
      "cell_type": "markdown",
      "source": [
        "isalpha()-- Returns true if all the characters in the string are in the alphabet\n",
        "\n",
        "isalnum()-- Returns true if all the characters in the string are in the alphanumeric\n",
        "\n",
        "isdigit()-- Returns true if all the characters in the string are digits\n",
        "\n",
        "islower()-- Returns true if all the characters are in lowercase\n",
        "\n",
        "isupper()-- Returns false if all the characters are in uppercase\n"
      ],
      "metadata": {
        "id": "8B_QPepEYX4G"
      }
    },
    {
      "cell_type": "code",
      "source": [
        "txt='Ram is  a great person'\n",
        "txt"
      ],
      "metadata": {
        "colab": {
          "base_uri": "https://localhost:8080/",
          "height": 35
        },
        "id": "ZR6AXX96Xnt4",
        "outputId": "b658a556-3435-48c9-a5c7-35b3b904f669"
      },
      "execution_count": 30,
      "outputs": [
        {
          "output_type": "execute_result",
          "data": {
            "text/plain": [
              "'Ram is  a great person'"
            ],
            "application/vnd.google.colaboratory.intrinsic+json": {
              "type": "string"
            }
          },
          "metadata": {},
          "execution_count": 30
        }
      ]
    },
    {
      "cell_type": "code",
      "source": [
        "for i in text:\n",
        "  print(i)"
      ],
      "metadata": {
        "colab": {
          "base_uri": "https://localhost:8080/"
        },
        "id": "_gRsAp03ZJyf",
        "outputId": "bf086e9f-5a86-45b7-e94f-20647e3f0a0c"
      },
      "execution_count": 31,
      "outputs": [
        {
          "output_type": "stream",
          "name": "stdout",
          "text": [
            "t\n",
            "h\n",
            "e\n",
            " \n",
            "q\n",
            "u\n",
            "i\n",
            "c\n",
            "k\n",
            " \n",
            "b\n",
            "r\n",
            "o\n",
            "w\n",
            "n\n",
            " \n",
            "f\n",
            "o\n",
            "x\n",
            " \n",
            "j\n",
            "u\n",
            "m\n",
            "p\n",
            "s\n",
            " \n",
            "O\n",
            "F\n",
            "F\n",
            " \n",
            "a\n",
            " \n",
            "c\n",
            "l\n",
            "i\n",
            "f\n",
            "f\n"
          ]
        }
      ]
    },
    {
      "cell_type": "code",
      "source": [
        "for i in txt:\n",
        "  if(ord(i)>=65 and ord(i)<=90):\n",
        "    print('Upppercase',i)\n",
        "  elif(ord(i)>=97 and ord(i)<=122):\n",
        "    print('Lowercase',i)\n",
        ""
      ],
      "metadata": {
        "colab": {
          "base_uri": "https://localhost:8080/"
        },
        "id": "PMCTklhHZTde",
        "outputId": "53ad0c83-9f9e-4700-cccf-52cd055872a5"
      },
      "execution_count": 32,
      "outputs": [
        {
          "output_type": "stream",
          "name": "stdout",
          "text": [
            "Upppercase R\n",
            "Lowercase a\n",
            "Lowercase m\n",
            "Lowercase i\n",
            "Lowercase s\n",
            "Lowercase a\n",
            "Lowercase g\n",
            "Lowercase r\n",
            "Lowercase e\n",
            "Lowercase a\n",
            "Lowercase t\n",
            "Lowercase p\n",
            "Lowercase e\n",
            "Lowercase r\n",
            "Lowercase s\n",
            "Lowercase o\n",
            "Lowercase n\n"
          ]
        }
      ]
    },
    {
      "cell_type": "markdown",
      "source": [
        "#1.isalpha()"
      ],
      "metadata": {
        "id": "RhdHUjWLay_9"
      }
    },
    {
      "cell_type": "code",
      "source": [
        "c=0\n",
        "for i in txt:\n",
        "  if(ord(i)>=65 and ord(i)<=90) or(ord(i)>=97 and ord(i)<=122):\n",
        "    c+=1\n",
        "\n",
        "print(c)"
      ],
      "metadata": {
        "colab": {
          "base_uri": "https://localhost:8080/"
        },
        "id": "-wXK8U4Zaq_t",
        "outputId": "48745842-f8d4-4b2a-9115-798833d48a26"
      },
      "execution_count": 33,
      "outputs": [
        {
          "output_type": "stream",
          "name": "stdout",
          "text": [
            "17\n"
          ]
        }
      ]
    },
    {
      "cell_type": "code",
      "metadata": {
        "id": "909f2ef1"
      },
      "source": [
        "def is_alpha_only(text):\n",
        "  c=0\n",
        "  for i in text:\n",
        "    if(ord(i)>=65 and ord(i)<=90) or(ord(i)>=97 and ord(i)<=122):\n",
        "      c+=1\n",
        "\n",
        "  if(len(text)==c):\n",
        "    return True\n",
        "  else:\n",
        "    return False"
      ],
      "execution_count": 34,
      "outputs": []
    },
    {
      "cell_type": "code",
      "source": [
        "is_alpha_only(txt)"
      ],
      "metadata": {
        "colab": {
          "base_uri": "https://localhost:8080/"
        },
        "id": "4h8Ei9rBbcJJ",
        "outputId": "8322e8b6-6ef9-466b-e0f1-c7a3222ade3e"
      },
      "execution_count": 35,
      "outputs": [
        {
          "output_type": "execute_result",
          "data": {
            "text/plain": [
              "False"
            ]
          },
          "metadata": {},
          "execution_count": 35
        }
      ]
    },
    {
      "cell_type": "code",
      "source": [
        "is_alpha_only('Xyx ndj')"
      ],
      "metadata": {
        "colab": {
          "base_uri": "https://localhost:8080/"
        },
        "id": "P5s_wJR9brQN",
        "outputId": "d8177295-11d7-44f2-dc93-b5e483d496e6"
      },
      "execution_count": 36,
      "outputs": [
        {
          "output_type": "execute_result",
          "data": {
            "text/plain": [
              "False"
            ]
          },
          "metadata": {},
          "execution_count": 36
        }
      ]
    },
    {
      "cell_type": "code",
      "source": [
        "is_alpha_only('XYGGSD')"
      ],
      "metadata": {
        "colab": {
          "base_uri": "https://localhost:8080/"
        },
        "id": "u9Ro_J34b8Od",
        "outputId": "09e9a302-f063-4adb-eb97-e2ceb480bfd2"
      },
      "execution_count": 37,
      "outputs": [
        {
          "output_type": "execute_result",
          "data": {
            "text/plain": [
              "True"
            ]
          },
          "metadata": {},
          "execution_count": 37
        }
      ]
    },
    {
      "cell_type": "markdown",
      "source": [
        "#2.isdigit()\n",
        "(41-57)--digits"
      ],
      "metadata": {
        "id": "gPcOJx-JcFLE"
      }
    },
    {
      "cell_type": "code",
      "source": [
        "def isdigit(text):\n",
        "    c = 0\n",
        "    for i in text:\n",
        "        if ord(i) >= 48 and ord(i) <= 57:\n",
        "            c += 1\n",
        "    return len(text) == c\n",
        "\n",
        ""
      ],
      "metadata": {
        "id": "ueBK6K6NcEBp"
      },
      "execution_count": 38,
      "outputs": []
    },
    {
      "cell_type": "code",
      "source": [
        "isdigit('155')"
      ],
      "metadata": {
        "colab": {
          "base_uri": "https://localhost:8080/"
        },
        "id": "CXluMkfUcipR",
        "outputId": "c3688465-3975-48da-d311-b1e7f159a391"
      },
      "execution_count": 39,
      "outputs": [
        {
          "output_type": "execute_result",
          "data": {
            "text/plain": [
              "True"
            ]
          },
          "metadata": {},
          "execution_count": 39
        }
      ]
    },
    {
      "cell_type": "code",
      "source": [
        "print(isdigit('1'))\n",
        "print(isdigit('23'))\n",
        "print(isdigit('a2'))"
      ],
      "metadata": {
        "colab": {
          "base_uri": "https://localhost:8080/"
        },
        "id": "nTdGBXt8cmP1",
        "outputId": "a34650ee-6b35-4349-d172-662821e5af5a"
      },
      "execution_count": 40,
      "outputs": [
        {
          "output_type": "stream",
          "name": "stdout",
          "text": [
            "True\n",
            "True\n",
            "False\n"
          ]
        }
      ]
    },
    {
      "cell_type": "markdown",
      "source": [
        "# isalnum()\n",
        "alphanumeric"
      ],
      "metadata": {
        "id": "bVSt3d44gY6K"
      }
    },
    {
      "cell_type": "code",
      "source": [
        "def isalnum(text):\n",
        "    c = 0\n",
        "    for i in text:\n",
        "        if (48 <= ord(i) <= 57) or (65 <= ord(i) <= 90) or (97 <= ord(i) <= 122):\n",
        "            c += 1\n",
        "    return len(text) == c and len(text) > 0\n"
      ],
      "metadata": {
        "id": "ZprlW7Irf0Ez"
      },
      "execution_count": 41,
      "outputs": []
    },
    {
      "cell_type": "code",
      "source": [
        "print(isalnum('1sd9'))\n",
        "print(isalnum('sd'))\n",
        "print(isalnum('19'))\n",
        "print(isalnum('AS'))\n",
        "print(isalnum('!'))"
      ],
      "metadata": {
        "colab": {
          "base_uri": "https://localhost:8080/"
        },
        "id": "fYqVJAn0g5qH",
        "outputId": "6da06fe7-9941-45c6-b37c-4478410c24ce"
      },
      "execution_count": 42,
      "outputs": [
        {
          "output_type": "stream",
          "name": "stdout",
          "text": [
            "True\n",
            "True\n",
            "True\n",
            "True\n",
            "False\n"
          ]
        }
      ]
    },
    {
      "cell_type": "markdown",
      "source": [
        "#DIY Function-Title"
      ],
      "metadata": {
        "id": "fA09IYP5hiVV"
      }
    },
    {
      "cell_type": "code",
      "source": [
        "txt='Hello everyone, Welcome to Gfg'\n",
        "txt"
      ],
      "metadata": {
        "colab": {
          "base_uri": "https://localhost:8080/",
          "height": 35
        },
        "id": "fo0bcSGehB2a",
        "outputId": "8e79c1d3-8870-435a-ed78-0ad46785cf26"
      },
      "execution_count": 43,
      "outputs": [
        {
          "output_type": "execute_result",
          "data": {
            "text/plain": [
              "'Hello everyone, Welcome to Gfg'"
            ],
            "application/vnd.google.colaboratory.intrinsic+json": {
              "type": "string"
            }
          },
          "metadata": {},
          "execution_count": 43
        }
      ]
    },
    {
      "cell_type": "code",
      "source": [
        "txt.title()"
      ],
      "metadata": {
        "colab": {
          "base_uri": "https://localhost:8080/",
          "height": 35
        },
        "id": "lI-QmAGKi3zJ",
        "outputId": "74a71192-776b-482a-feed-3b08dde64696"
      },
      "execution_count": 44,
      "outputs": [
        {
          "output_type": "execute_result",
          "data": {
            "text/plain": [
              "'Hello Everyone, Welcome To Gfg'"
            ],
            "application/vnd.google.colaboratory.intrinsic+json": {
              "type": "string"
            }
          },
          "metadata": {},
          "execution_count": 44
        }
      ]
    },
    {
      "cell_type": "code",
      "source": [
        "txt.split(' ')"
      ],
      "metadata": {
        "colab": {
          "base_uri": "https://localhost:8080/"
        },
        "id": "nb_TDnIMi6XL",
        "outputId": "61737be5-ddd2-4cd7-c200-8292c505eb78"
      },
      "execution_count": 45,
      "outputs": [
        {
          "output_type": "execute_result",
          "data": {
            "text/plain": [
              "['Hello', 'everyone,', 'Welcome', 'to', 'Gfg']"
            ]
          },
          "metadata": {},
          "execution_count": 45
        }
      ]
    },
    {
      "cell_type": "code",
      "source": [
        "for word in text.split(' '):\n",
        "  print(word[0].upper()+word[1:].lower())"
      ],
      "metadata": {
        "colab": {
          "base_uri": "https://localhost:8080/"
        },
        "id": "x3LKNyaHjBqt",
        "outputId": "4842ddf4-3744-4060-f184-e09a7d886e28"
      },
      "execution_count": 46,
      "outputs": [
        {
          "output_type": "stream",
          "name": "stdout",
          "text": [
            "The\n",
            "Quick\n",
            "Brown\n",
            "Fox\n",
            "Jumps\n",
            "Off\n",
            "A\n",
            "Cliff\n"
          ]
        }
      ]
    },
    {
      "cell_type": "code",
      "source": [
        "for word in text.split(' '):\n",
        "  print(upper(word[0])+lower(word[1:]))"
      ],
      "metadata": {
        "colab": {
          "base_uri": "https://localhost:8080/"
        },
        "id": "vXCdFpQsjQRS",
        "outputId": "0bb2ab3c-7db0-408f-ddf1-890cba5dfae0"
      },
      "execution_count": 47,
      "outputs": [
        {
          "output_type": "stream",
          "name": "stdout",
          "text": [
            "The\n",
            "Quick\n",
            "Brown\n",
            "Fox\n",
            "Jumps\n",
            "Off\n",
            "A\n",
            "Cliff\n"
          ]
        }
      ]
    },
    {
      "cell_type": "code",
      "source": [
        "def title(text):\n",
        "  output=[]\n",
        "  for word in text.split(' '):\n",
        "    output.append(upper(word[0])+lower(word[1:]))\n",
        "  return ' '.join(output)"
      ],
      "metadata": {
        "id": "PSt7iQ9xjcBp"
      },
      "execution_count": 48,
      "outputs": []
    },
    {
      "cell_type": "code",
      "source": [
        "title('brown fox jump off the cliff')"
      ],
      "metadata": {
        "colab": {
          "base_uri": "https://localhost:8080/",
          "height": 35
        },
        "id": "kf9WONVTlFK7",
        "outputId": "b733b5ea-3ce3-45f9-c690-27c186d96235"
      },
      "execution_count": 49,
      "outputs": [
        {
          "output_type": "execute_result",
          "data": {
            "text/plain": [
              "'Brown Fox Jump Off The Cliff'"
            ],
            "application/vnd.google.colaboratory.intrinsic+json": {
              "type": "string"
            }
          },
          "metadata": {},
          "execution_count": 49
        }
      ]
    },
    {
      "cell_type": "markdown",
      "metadata": {
        "id": "84449e5b"
      },
      "source": [
        "# Project Summary\n",
        "\n",
        "This project demonstrates how to recreate several built-in Python string methods using fundamental programming concepts. By utilizing loops, conditional statements, and ASCII values, we implemented functions for:\n",
        "\n",
        "- **Capitalizing** the first letter of a string and converting the rest to lowercase.\n",
        "- Converting an entire string to **uppercase**.\n",
        "- Converting an entire string to **lowercase**.\n",
        "- Checking if a string contains only **alphabetic** characters.\n",
        "- Checking if a string contains only **digits**.\n",
        "- Checking if a string contains only **alphanumeric** characters.\n",
        "- **Title-casing** a string (capitalizing the first letter of each word).\n",
        "\n",
        "This exercise provides a deeper understanding of how these common string operations work under the hood."
      ]
    }
  ]
}