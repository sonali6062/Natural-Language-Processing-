{
  "nbformat": 4,
  "nbformat_minor": 0,
  "metadata": {
    "colab": {
      "provenance": []
    },
    "kernelspec": {
      "name": "python3",
      "display_name": "Python 3"
    },
    "language_info": {
      "name": "python"
    }
  },
  "cells": [
    {
      "cell_type": "code",
      "execution_count": 1,
      "metadata": {
        "colab": {
          "base_uri": "https://localhost:8080/"
        },
        "id": "ZDWjG3ieOfia",
        "outputId": "14bccb5d-bbec-4d08-f174-39e391dbe244"
      },
      "outputs": [
        {
          "output_type": "stream",
          "name": "stderr",
          "text": [
            "[nltk_data] Downloading package punkt to /root/nltk_data...\n",
            "[nltk_data]   Package punkt is already up-to-date!\n",
            "[nltk_data] Downloading package stopwords to /root/nltk_data...\n",
            "[nltk_data]   Package stopwords is already up-to-date!\n"
          ]
        },
        {
          "output_type": "execute_result",
          "data": {
            "text/plain": [
              "True"
            ]
          },
          "metadata": {},
          "execution_count": 1
        }
      ],
      "source": [
        "import nltk\n",
        "# Import necessary libraries from nltk\n",
        "from nltk.corpus import stopwords\n",
        "from nltk.tokenize import sent_tokenize, word_tokenize\n",
        "\n",
        "# Download required NLTK data - punkt for tokenization, stopwords for stop words\n",
        "nltk.download('punkt')\n",
        "nltk.download('stopwords')"
      ]
    },
    {
      "cell_type": "code",
      "source": [
        "# Define the corpus of text\n",
        "corpus='India, officially the Republic of India, is a country in South Asia. It is the seventh-largest country by area, the second-most populous country, and the most populous democracy in the world. Bounded by the Indian Ocean on the south, the Arabian Sea on the southwest, and the Bay of Bengal on the southeast, it shares land borders with Pakistan to the west; China, Nepal, and Bhutan to the north; and Bangladesh and Myanmar to the east. In the Indian Ocean, India is in the vicinity of Sri Lanka and the Maldives; its Andaman and Nicobar Islands share a maritime border with Thailand, Myanmar and Indonesia.'\n",
        "# Display the corpus\n",
        "corpus"
      ],
      "metadata": {
        "colab": {
          "base_uri": "https://localhost:8080/",
          "height": 87
        },
        "id": "bnScvVFJO5U3",
        "outputId": "471cd526-07a4-47c7-92e3-8643fccc07f0"
      },
      "execution_count": 2,
      "outputs": [
        {
          "output_type": "execute_result",
          "data": {
            "text/plain": [
              "'India, officially the Republic of India, is a country in South Asia. It is the seventh-largest country by area, the second-most populous country, and the most populous democracy in the world. Bounded by the Indian Ocean on the south, the Arabian Sea on the southwest, and the Bay of Bengal on the southeast, it shares land borders with Pakistan to the west; China, Nepal, and Bhutan to the north; and Bangladesh and Myanmar to the east. In the Indian Ocean, India is in the vicinity of Sri Lanka and the Maldives; its Andaman and Nicobar Islands share a maritime border with Thailand, Myanmar and Indonesia.'"
            ],
            "application/vnd.google.colaboratory.intrinsic+json": {
              "type": "string"
            }
          },
          "metadata": {},
          "execution_count": 2
        }
      ]
    },
    {
      "cell_type": "code",
      "source": [
        "# Tokenize the corpus into words and display the list of words\n",
        "word_tokenize(corpus) #group the unique words in corpus"
      ],
      "metadata": {
        "colab": {
          "base_uri": "https://localhost:8080/"
        },
        "id": "y3d3YHZlO8Px",
        "outputId": "8b175b67-ce9b-4edb-fdba-a34cbe93f1c1"
      },
      "execution_count": 3,
      "outputs": [
        {
          "output_type": "execute_result",
          "data": {
            "text/plain": [
              "['India',\n",
              " ',',\n",
              " 'officially',\n",
              " 'the',\n",
              " 'Republic',\n",
              " 'of',\n",
              " 'India',\n",
              " ',',\n",
              " 'is',\n",
              " 'a',\n",
              " 'country',\n",
              " 'in',\n",
              " 'South',\n",
              " 'Asia',\n",
              " '.',\n",
              " 'It',\n",
              " 'is',\n",
              " 'the',\n",
              " 'seventh-largest',\n",
              " 'country',\n",
              " 'by',\n",
              " 'area',\n",
              " ',',\n",
              " 'the',\n",
              " 'second-most',\n",
              " 'populous',\n",
              " 'country',\n",
              " ',',\n",
              " 'and',\n",
              " 'the',\n",
              " 'most',\n",
              " 'populous',\n",
              " 'democracy',\n",
              " 'in',\n",
              " 'the',\n",
              " 'world',\n",
              " '.',\n",
              " 'Bounded',\n",
              " 'by',\n",
              " 'the',\n",
              " 'Indian',\n",
              " 'Ocean',\n",
              " 'on',\n",
              " 'the',\n",
              " 'south',\n",
              " ',',\n",
              " 'the',\n",
              " 'Arabian',\n",
              " 'Sea',\n",
              " 'on',\n",
              " 'the',\n",
              " 'southwest',\n",
              " ',',\n",
              " 'and',\n",
              " 'the',\n",
              " 'Bay',\n",
              " 'of',\n",
              " 'Bengal',\n",
              " 'on',\n",
              " 'the',\n",
              " 'southeast',\n",
              " ',',\n",
              " 'it',\n",
              " 'shares',\n",
              " 'land',\n",
              " 'borders',\n",
              " 'with',\n",
              " 'Pakistan',\n",
              " 'to',\n",
              " 'the',\n",
              " 'west',\n",
              " ';',\n",
              " 'China',\n",
              " ',',\n",
              " 'Nepal',\n",
              " ',',\n",
              " 'and',\n",
              " 'Bhutan',\n",
              " 'to',\n",
              " 'the',\n",
              " 'north',\n",
              " ';',\n",
              " 'and',\n",
              " 'Bangladesh',\n",
              " 'and',\n",
              " 'Myanmar',\n",
              " 'to',\n",
              " 'the',\n",
              " 'east',\n",
              " '.',\n",
              " 'In',\n",
              " 'the',\n",
              " 'Indian',\n",
              " 'Ocean',\n",
              " ',',\n",
              " 'India',\n",
              " 'is',\n",
              " 'in',\n",
              " 'the',\n",
              " 'vicinity',\n",
              " 'of',\n",
              " 'Sri',\n",
              " 'Lanka',\n",
              " 'and',\n",
              " 'the',\n",
              " 'Maldives',\n",
              " ';',\n",
              " 'its',\n",
              " 'Andaman',\n",
              " 'and',\n",
              " 'Nicobar',\n",
              " 'Islands',\n",
              " 'share',\n",
              " 'a',\n",
              " 'maritime',\n",
              " 'border',\n",
              " 'with',\n",
              " 'Thailand',\n",
              " ',',\n",
              " 'Myanmar',\n",
              " 'and',\n",
              " 'Indonesia',\n",
              " '.']"
            ]
          },
          "metadata": {},
          "execution_count": 3
        }
      ]
    },
    {
      "cell_type": "markdown",
      "source": [
        "Unique word is called the size of vocabulary.\n",
        "\n",
        "In dictionary it has all the unique words;that's why it's called vocabulary.\n",
        "\n",
        "Higher the vocab size leads to high doifficulty on working on it."
      ],
      "metadata": {
        "id": "roy36J9oRv37"
      }
    },
    {
      "cell_type": "code",
      "source": [
        "tokenized_corpus = word_tokenize(corpus)\n",
        "for word in tokenized_corpus:\n",
        "  if word in tokenized_corpus:\n",
        "    print(word)"
      ],
      "metadata": {
        "colab": {
          "base_uri": "https://localhost:8080/"
        },
        "id": "QFOIzwdwPAte",
        "outputId": "2fd11255-cbb7-42ad-c3bc-4674dafc4fc0"
      },
      "execution_count": 4,
      "outputs": [
        {
          "output_type": "stream",
          "name": "stdout",
          "text": [
            "India\n",
            ",\n",
            "officially\n",
            "the\n",
            "Republic\n",
            "of\n",
            "India\n",
            ",\n",
            "is\n",
            "a\n",
            "country\n",
            "in\n",
            "South\n",
            "Asia\n",
            ".\n",
            "It\n",
            "is\n",
            "the\n",
            "seventh-largest\n",
            "country\n",
            "by\n",
            "area\n",
            ",\n",
            "the\n",
            "second-most\n",
            "populous\n",
            "country\n",
            ",\n",
            "and\n",
            "the\n",
            "most\n",
            "populous\n",
            "democracy\n",
            "in\n",
            "the\n",
            "world\n",
            ".\n",
            "Bounded\n",
            "by\n",
            "the\n",
            "Indian\n",
            "Ocean\n",
            "on\n",
            "the\n",
            "south\n",
            ",\n",
            "the\n",
            "Arabian\n",
            "Sea\n",
            "on\n",
            "the\n",
            "southwest\n",
            ",\n",
            "and\n",
            "the\n",
            "Bay\n",
            "of\n",
            "Bengal\n",
            "on\n",
            "the\n",
            "southeast\n",
            ",\n",
            "it\n",
            "shares\n",
            "land\n",
            "borders\n",
            "with\n",
            "Pakistan\n",
            "to\n",
            "the\n",
            "west\n",
            ";\n",
            "China\n",
            ",\n",
            "Nepal\n",
            ",\n",
            "and\n",
            "Bhutan\n",
            "to\n",
            "the\n",
            "north\n",
            ";\n",
            "and\n",
            "Bangladesh\n",
            "and\n",
            "Myanmar\n",
            "to\n",
            "the\n",
            "east\n",
            ".\n",
            "In\n",
            "the\n",
            "Indian\n",
            "Ocean\n",
            ",\n",
            "India\n",
            "is\n",
            "in\n",
            "the\n",
            "vicinity\n",
            "of\n",
            "Sri\n",
            "Lanka\n",
            "and\n",
            "the\n",
            "Maldives\n",
            ";\n",
            "its\n",
            "Andaman\n",
            "and\n",
            "Nicobar\n",
            "Islands\n",
            "share\n",
            "a\n",
            "maritime\n",
            "border\n",
            "with\n",
            "Thailand\n",
            ",\n",
            "Myanmar\n",
            "and\n",
            "Indonesia\n",
            ".\n"
          ]
        }
      ]
    },
    {
      "cell_type": "code",
      "source": [
        "stopwords.words('english')"
      ],
      "metadata": {
        "colab": {
          "base_uri": "https://localhost:8080/"
        },
        "id": "3OjLaPo6StUp",
        "outputId": "d5748f2f-960e-4350-f30d-9ea61b84b8ea"
      },
      "execution_count": 5,
      "outputs": [
        {
          "output_type": "execute_result",
          "data": {
            "text/plain": [
              "['a',\n",
              " 'about',\n",
              " 'above',\n",
              " 'after',\n",
              " 'again',\n",
              " 'against',\n",
              " 'ain',\n",
              " 'all',\n",
              " 'am',\n",
              " 'an',\n",
              " 'and',\n",
              " 'any',\n",
              " 'are',\n",
              " 'aren',\n",
              " \"aren't\",\n",
              " 'as',\n",
              " 'at',\n",
              " 'be',\n",
              " 'because',\n",
              " 'been',\n",
              " 'before',\n",
              " 'being',\n",
              " 'below',\n",
              " 'between',\n",
              " 'both',\n",
              " 'but',\n",
              " 'by',\n",
              " 'can',\n",
              " 'couldn',\n",
              " \"couldn't\",\n",
              " 'd',\n",
              " 'did',\n",
              " 'didn',\n",
              " \"didn't\",\n",
              " 'do',\n",
              " 'does',\n",
              " 'doesn',\n",
              " \"doesn't\",\n",
              " 'doing',\n",
              " 'don',\n",
              " \"don't\",\n",
              " 'down',\n",
              " 'during',\n",
              " 'each',\n",
              " 'few',\n",
              " 'for',\n",
              " 'from',\n",
              " 'further',\n",
              " 'had',\n",
              " 'hadn',\n",
              " \"hadn't\",\n",
              " 'has',\n",
              " 'hasn',\n",
              " \"hasn't\",\n",
              " 'have',\n",
              " 'haven',\n",
              " \"haven't\",\n",
              " 'having',\n",
              " 'he',\n",
              " \"he'd\",\n",
              " \"he'll\",\n",
              " 'her',\n",
              " 'here',\n",
              " 'hers',\n",
              " 'herself',\n",
              " \"he's\",\n",
              " 'him',\n",
              " 'himself',\n",
              " 'his',\n",
              " 'how',\n",
              " 'i',\n",
              " \"i'd\",\n",
              " 'if',\n",
              " \"i'll\",\n",
              " \"i'm\",\n",
              " 'in',\n",
              " 'into',\n",
              " 'is',\n",
              " 'isn',\n",
              " \"isn't\",\n",
              " 'it',\n",
              " \"it'd\",\n",
              " \"it'll\",\n",
              " \"it's\",\n",
              " 'its',\n",
              " 'itself',\n",
              " \"i've\",\n",
              " 'just',\n",
              " 'll',\n",
              " 'm',\n",
              " 'ma',\n",
              " 'me',\n",
              " 'mightn',\n",
              " \"mightn't\",\n",
              " 'more',\n",
              " 'most',\n",
              " 'mustn',\n",
              " \"mustn't\",\n",
              " 'my',\n",
              " 'myself',\n",
              " 'needn',\n",
              " \"needn't\",\n",
              " 'no',\n",
              " 'nor',\n",
              " 'not',\n",
              " 'now',\n",
              " 'o',\n",
              " 'of',\n",
              " 'off',\n",
              " 'on',\n",
              " 'once',\n",
              " 'only',\n",
              " 'or',\n",
              " 'other',\n",
              " 'our',\n",
              " 'ours',\n",
              " 'ourselves',\n",
              " 'out',\n",
              " 'over',\n",
              " 'own',\n",
              " 're',\n",
              " 's',\n",
              " 'same',\n",
              " 'shan',\n",
              " \"shan't\",\n",
              " 'she',\n",
              " \"she'd\",\n",
              " \"she'll\",\n",
              " \"she's\",\n",
              " 'should',\n",
              " 'shouldn',\n",
              " \"shouldn't\",\n",
              " \"should've\",\n",
              " 'so',\n",
              " 'some',\n",
              " 'such',\n",
              " 't',\n",
              " 'than',\n",
              " 'that',\n",
              " \"that'll\",\n",
              " 'the',\n",
              " 'their',\n",
              " 'theirs',\n",
              " 'them',\n",
              " 'themselves',\n",
              " 'then',\n",
              " 'there',\n",
              " 'these',\n",
              " 'they',\n",
              " \"they'd\",\n",
              " \"they'll\",\n",
              " \"they're\",\n",
              " \"they've\",\n",
              " 'this',\n",
              " 'those',\n",
              " 'through',\n",
              " 'to',\n",
              " 'too',\n",
              " 'under',\n",
              " 'until',\n",
              " 'up',\n",
              " 've',\n",
              " 'very',\n",
              " 'was',\n",
              " 'wasn',\n",
              " \"wasn't\",\n",
              " 'we',\n",
              " \"we'd\",\n",
              " \"we'll\",\n",
              " \"we're\",\n",
              " 'were',\n",
              " 'weren',\n",
              " \"weren't\",\n",
              " \"we've\",\n",
              " 'what',\n",
              " 'when',\n",
              " 'where',\n",
              " 'which',\n",
              " 'while',\n",
              " 'who',\n",
              " 'whom',\n",
              " 'why',\n",
              " 'will',\n",
              " 'with',\n",
              " 'won',\n",
              " \"won't\",\n",
              " 'wouldn',\n",
              " \"wouldn't\",\n",
              " 'y',\n",
              " 'you',\n",
              " \"you'd\",\n",
              " \"you'll\",\n",
              " 'your',\n",
              " \"you're\",\n",
              " 'yours',\n",
              " 'yourself',\n",
              " 'yourselves',\n",
              " \"you've\"]"
            ]
          },
          "metadata": {},
          "execution_count": 5
        }
      ]
    },
    {
      "cell_type": "code",
      "source": [
        "tokenized_corpus = word_tokenize(corpus)\n",
        "for word in tokenized_corpus:\n",
        "  if (word.lower() not in stopwords.words('english')):\n",
        "    print(word)"
      ],
      "metadata": {
        "colab": {
          "base_uri": "https://localhost:8080/"
        },
        "id": "hVHqsJmbS5Z7",
        "outputId": "9f4844c6-7869-4b41-9c8d-6bec418c73da"
      },
      "execution_count": 6,
      "outputs": [
        {
          "output_type": "stream",
          "name": "stdout",
          "text": [
            "India\n",
            ",\n",
            "officially\n",
            "Republic\n",
            "India\n",
            ",\n",
            "country\n",
            "South\n",
            "Asia\n",
            ".\n",
            "seventh-largest\n",
            "country\n",
            "area\n",
            ",\n",
            "second-most\n",
            "populous\n",
            "country\n",
            ",\n",
            "populous\n",
            "democracy\n",
            "world\n",
            ".\n",
            "Bounded\n",
            "Indian\n",
            "Ocean\n",
            "south\n",
            ",\n",
            "Arabian\n",
            "Sea\n",
            "southwest\n",
            ",\n",
            "Bay\n",
            "Bengal\n",
            "southeast\n",
            ",\n",
            "shares\n",
            "land\n",
            "borders\n",
            "Pakistan\n",
            "west\n",
            ";\n",
            "China\n",
            ",\n",
            "Nepal\n",
            ",\n",
            "Bhutan\n",
            "north\n",
            ";\n",
            "Bangladesh\n",
            "Myanmar\n",
            "east\n",
            ".\n",
            "Indian\n",
            "Ocean\n",
            ",\n",
            "India\n",
            "vicinity\n",
            "Sri\n",
            "Lanka\n",
            "Maldives\n",
            ";\n",
            "Andaman\n",
            "Nicobar\n",
            "Islands\n",
            "share\n",
            "maritime\n",
            "border\n",
            "Thailand\n",
            ",\n",
            "Myanmar\n",
            "Indonesia\n",
            ".\n"
          ]
        }
      ]
    },
    {
      "cell_type": "markdown",
      "source": [
        "# Stop Word Removal"
      ],
      "metadata": {
        "id": "Oc-eJijwV--B"
      }
    },
    {
      "cell_type": "code",
      "source": [
        "words=[]\n",
        "tokenized_corpus = word_tokenize(corpus)\n",
        "for word in tokenized_corpus:\n",
        "  if (word.lower() not in stopwords.words('english'))and(len(word)>=2):\n",
        "    words.append(word.lower())"
      ],
      "metadata": {
        "id": "qgWx42DXTlKw"
      },
      "execution_count": 7,
      "outputs": []
    },
    {
      "cell_type": "code",
      "source": [
        "words"
      ],
      "metadata": {
        "colab": {
          "base_uri": "https://localhost:8080/"
        },
        "id": "xJ3iaWSkT6nw",
        "outputId": "46bfbb68-62c9-4a41-872d-aed61a22dce8"
      },
      "execution_count": 8,
      "outputs": [
        {
          "output_type": "execute_result",
          "data": {
            "text/plain": [
              "['india',\n",
              " 'officially',\n",
              " 'republic',\n",
              " 'india',\n",
              " 'country',\n",
              " 'south',\n",
              " 'asia',\n",
              " 'seventh-largest',\n",
              " 'country',\n",
              " 'area',\n",
              " 'second-most',\n",
              " 'populous',\n",
              " 'country',\n",
              " 'populous',\n",
              " 'democracy',\n",
              " 'world',\n",
              " 'bounded',\n",
              " 'indian',\n",
              " 'ocean',\n",
              " 'south',\n",
              " 'arabian',\n",
              " 'sea',\n",
              " 'southwest',\n",
              " 'bay',\n",
              " 'bengal',\n",
              " 'southeast',\n",
              " 'shares',\n",
              " 'land',\n",
              " 'borders',\n",
              " 'pakistan',\n",
              " 'west',\n",
              " 'china',\n",
              " 'nepal',\n",
              " 'bhutan',\n",
              " 'north',\n",
              " 'bangladesh',\n",
              " 'myanmar',\n",
              " 'east',\n",
              " 'indian',\n",
              " 'ocean',\n",
              " 'india',\n",
              " 'vicinity',\n",
              " 'sri',\n",
              " 'lanka',\n",
              " 'maldives',\n",
              " 'andaman',\n",
              " 'nicobar',\n",
              " 'islands',\n",
              " 'share',\n",
              " 'maritime',\n",
              " 'border',\n",
              " 'thailand',\n",
              " 'myanmar',\n",
              " 'indonesia']"
            ]
          },
          "metadata": {},
          "execution_count": 8
        }
      ]
    },
    {
      "cell_type": "code",
      "source": [
        "len(words)"
      ],
      "metadata": {
        "colab": {
          "base_uri": "https://localhost:8080/"
        },
        "id": "3yoGs3A9UvvQ",
        "outputId": "9f835937-33f8-4afb-a04d-fbdf414d0b92"
      },
      "execution_count": 9,
      "outputs": [
        {
          "output_type": "execute_result",
          "data": {
            "text/plain": [
              "54"
            ]
          },
          "metadata": {},
          "execution_count": 9
        }
      ]
    },
    {
      "cell_type": "code",
      "source": [
        "set(words)"
      ],
      "metadata": {
        "colab": {
          "base_uri": "https://localhost:8080/"
        },
        "id": "O1UFTpfuUpBy",
        "outputId": "8717c923-13f5-4ebb-e21a-6ff9f5e4337e"
      },
      "execution_count": 10,
      "outputs": [
        {
          "output_type": "execute_result",
          "data": {
            "text/plain": [
              "{'andaman',\n",
              " 'arabian',\n",
              " 'area',\n",
              " 'asia',\n",
              " 'bangladesh',\n",
              " 'bay',\n",
              " 'bengal',\n",
              " 'bhutan',\n",
              " 'border',\n",
              " 'borders',\n",
              " 'bounded',\n",
              " 'china',\n",
              " 'country',\n",
              " 'democracy',\n",
              " 'east',\n",
              " 'india',\n",
              " 'indian',\n",
              " 'indonesia',\n",
              " 'islands',\n",
              " 'land',\n",
              " 'lanka',\n",
              " 'maldives',\n",
              " 'maritime',\n",
              " 'myanmar',\n",
              " 'nepal',\n",
              " 'nicobar',\n",
              " 'north',\n",
              " 'ocean',\n",
              " 'officially',\n",
              " 'pakistan',\n",
              " 'populous',\n",
              " 'republic',\n",
              " 'sea',\n",
              " 'second-most',\n",
              " 'seventh-largest',\n",
              " 'share',\n",
              " 'shares',\n",
              " 'south',\n",
              " 'southeast',\n",
              " 'southwest',\n",
              " 'sri',\n",
              " 'thailand',\n",
              " 'vicinity',\n",
              " 'west',\n",
              " 'world'}"
            ]
          },
          "metadata": {},
          "execution_count": 10
        }
      ]
    },
    {
      "cell_type": "code",
      "source": [
        "len(set(words))"
      ],
      "metadata": {
        "colab": {
          "base_uri": "https://localhost:8080/"
        },
        "id": "TVLOYJ-lU0Sj",
        "outputId": "6971d0c2-ff70-4b98-881f-cf2a0e60ead6"
      },
      "execution_count": 11,
      "outputs": [
        {
          "output_type": "execute_result",
          "data": {
            "text/plain": [
              "45"
            ]
          },
          "metadata": {},
          "execution_count": 11
        }
      ]
    },
    {
      "cell_type": "code",
      "source": [
        "len(word_tokenize(corpus))"
      ],
      "metadata": {
        "colab": {
          "base_uri": "https://localhost:8080/"
        },
        "id": "iUaA_RnrU24s",
        "outputId": "11e2707d-0469-468d-a0cd-6343f9686c97"
      },
      "execution_count": 12,
      "outputs": [
        {
          "output_type": "execute_result",
          "data": {
            "text/plain": [
              "123"
            ]
          },
          "metadata": {},
          "execution_count": 12
        }
      ]
    },
    {
      "cell_type": "code",
      "source": [
        "tokenized_corpus = word_tokenize(corpus)\n",
        "for word in tokenized_corpus:\n",
        "  if (word.lower() in stopwords.words('english')):\n",
        "    print(word)"
      ],
      "metadata": {
        "colab": {
          "base_uri": "https://localhost:8080/"
        },
        "id": "vgdnS206TWyS",
        "outputId": "eceaf7b5-d8c3-418f-fcbb-6410b59cdce2"
      },
      "execution_count": 13,
      "outputs": [
        {
          "output_type": "stream",
          "name": "stdout",
          "text": [
            "the\n",
            "of\n",
            "is\n",
            "a\n",
            "in\n",
            "It\n",
            "is\n",
            "the\n",
            "by\n",
            "the\n",
            "and\n",
            "the\n",
            "most\n",
            "in\n",
            "the\n",
            "by\n",
            "the\n",
            "on\n",
            "the\n",
            "the\n",
            "on\n",
            "the\n",
            "and\n",
            "the\n",
            "of\n",
            "on\n",
            "the\n",
            "it\n",
            "with\n",
            "to\n",
            "the\n",
            "and\n",
            "to\n",
            "the\n",
            "and\n",
            "and\n",
            "to\n",
            "the\n",
            "In\n",
            "the\n",
            "is\n",
            "in\n",
            "the\n",
            "of\n",
            "and\n",
            "the\n",
            "its\n",
            "and\n",
            "a\n",
            "with\n",
            "and\n"
          ]
        }
      ]
    },
    {
      "cell_type": "code",
      "source": [
        "for sent in sent_tokenize(corpus):\n",
        "  print(sent)"
      ],
      "metadata": {
        "colab": {
          "base_uri": "https://localhost:8080/"
        },
        "id": "BRBAkvqFTbeq",
        "outputId": "4a026968-6838-4d9e-979c-ad974887eabb"
      },
      "execution_count": 14,
      "outputs": [
        {
          "output_type": "stream",
          "name": "stdout",
          "text": [
            "India, officially the Republic of India, is a country in South Asia.\n",
            "It is the seventh-largest country by area, the second-most populous country, and the most populous democracy in the world.\n",
            "Bounded by the Indian Ocean on the south, the Arabian Sea on the southwest, and the Bay of Bengal on the southeast, it shares land borders with Pakistan to the west; China, Nepal, and Bhutan to the north; and Bangladesh and Myanmar to the east.\n",
            "In the Indian Ocean, India is in the vicinity of Sri Lanka and the Maldives; its Andaman and Nicobar Islands share a maritime border with Thailand, Myanmar and Indonesia.\n"
          ]
        }
      ]
    },
    {
      "cell_type": "markdown",
      "metadata": {
        "id": "92d508a6"
      },
      "source": [
        "## Summary\n",
        "\n",
        "This notebook demonstrates basic text processing using NLTK. We performed the following steps:\n",
        "\n",
        "1.  **Tokenization:** Divided the text into individual words and sentences.\n",
        "2.  **Stop Word Removal:** Removed common English stop words to focus on more meaningful terms.\n",
        "3.  **Vocabulary Size:** Calculated the number of unique words before and after stop word removal."
      ]
    }
  ]
}